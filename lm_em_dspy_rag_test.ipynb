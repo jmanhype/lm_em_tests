{
 "cells": [
  {
   "cell_type": "code",
   "execution_count": null,
   "id": "22120951-8427-4bf4-b2d6-691c9712ccec",
   "metadata": {},
   "outputs": [],
   "source": [
    "# !pip install dspy-ai\n",
    "# !pip install -r dspy-requirements-2.txt\n",
    "!pip install -U dspy-ai"
   ]
  },
  {
   "cell_type": "code",
   "execution_count": 1,
   "id": "b3f07590-b09a-4411-b01c-30a65305619b",
   "metadata": {},
   "outputs": [],
   "source": [
    "import dspy\n",
    "import chromadb\n",
    "from dspy.retrieve.chromadb_rm import ChromadbRM\n",
    "import json"
   ]
  },
  {
   "cell_type": "markdown",
   "id": "7c81e150-8a40-42a9-bbec-57228b6a48a2",
   "metadata": {},
   "source": [
    "# Elon Musk's Wikipedia Page as Our Knowledge Source"
   ]
  },
  {
   "cell_type": "code",
   "execution_count": null,
   "id": "fc09bba3-fe76-4a42-80ad-bd41195e4fd5",
   "metadata": {},
   "outputs": [],
   "source": [
    "from langchain_community.document_loaders import WikipediaLoader\n",
    "\n",
    "query = \"Elon Musk\"\n",
    "raw_documents = WikipediaLoader(query=query).load()"
   ]
  },
  {
   "cell_type": "markdown",
   "id": "d2a9e672-2c14-4b54-b236-eeb5af0c6a84",
   "metadata": {},
   "source": [
    "# Chunking"
   ]
  },
  {
   "cell_type": "code",
   "execution_count": 4,
   "id": "bd13d8a7-62cc-4063-b795-9c1d6288790e",
   "metadata": {},
   "outputs": [],
   "source": [
    "from langchain.text_splitter import RecursiveCharacterTextSplitter\n",
    "\n",
    "# Split\n",
    "text_splitter = RecursiveCharacterTextSplitter.from_tiktoken_encoder(\n",
    "    chunk_size=512, chunk_overlap=100\n",
    ")\n",
    "all_splits = text_splitter.split_documents(raw_documents)"
   ]
  },
  {
   "cell_type": "markdown",
   "id": "7169bcf6-4983-480e-b8fe-9e9bdb58f383",
   "metadata": {},
   "source": [
    "# OpenAI ada-002 embedding model"
   ]
  },
  {
   "cell_type": "code",
   "execution_count": 5,
   "id": "39618be9-74bd-4e8c-8766-e582617e0a12",
   "metadata": {},
   "outputs": [],
   "source": [
    "from langchain_openai import ChatOpenAI, OpenAIEmbeddings\n",
    "import os\n",
    "\n",
    "os.environ[\"OPENAI_API_KEY\"] = 'openai-api-key'\n",
    "from langchain_openai import OpenAIEmbeddings\n",
    "ada_embeddings = OpenAIEmbeddings(model=\"text-embedding-ada-002\")"
   ]
  },
  {
   "cell_type": "markdown",
   "id": "f9ce3b2e-c5df-4859-9774-0fdb92477a44",
   "metadata": {},
   "source": [
    "Embed our text data with OpenAI ada-002 embedding model in chromadb vector database"
   ]
  },
  {
   "cell_type": "code",
   "execution_count": 6,
   "id": "b55641b8-e4ba-4d7d-9985-7eac6ea8f418",
   "metadata": {},
   "outputs": [],
   "source": [
    "from langchain_community.vectorstores import Chroma\n",
    "from dspy.retrieve.chromadb_rm import ChromadbRM\n",
    "import chromadb.utils.embedding_functions as embedding_functions\n",
    "ADA_CHROMA_COLLECTION_NAME = \"dspy-rag-chroma\"\n",
    "ADA_CHROMADB_DIR = \"dspy_rag_chroma/\"\n",
    "\n",
    "# Index\n",
    "ada_vectorstore = Chroma.from_documents(\n",
    "    documents=all_splits,\n",
    "    collection_name=ADA_CHROMA_COLLECTION_NAME,\n",
    "    embedding=ada_embeddings,\n",
    "    persist_directory=ADA_CHROMADB_DIR\n",
    ")\n",
    "\n",
    "ada_retriever = ada_vectorstore.as_retriever()\n",
    "\n",
    "ada_ef = embedding_functions.OpenAIEmbeddingFunction(\n",
    "    api_key=os.environ.get('OPENAI_API_KEY'),\n",
    "    model_name=\"text-embedding-ada-002\"\n",
    ")\n",
    "\n",
    "ada_rm = ChromadbRM(ADA_CHROMA_COLLECTION_NAME, ADA_CHROMADB_DIR, ada_ef, k=3)"
   ]
  },
  {
   "cell_type": "markdown",
   "id": "21064d97-428e-4e22-b6d7-fa822125936b",
   "metadata": {},
   "source": [
    "# Local embedding - Nomic Embedding"
   ]
  },
  {
   "cell_type": "code",
   "execution_count": 11,
   "id": "150ce58f-204b-4e3d-84e1-87e448c99d28",
   "metadata": {},
   "outputs": [
    {
     "name": "stdout",
     "output_type": "stream",
     "text": [
      "Requirement already satisfied: gpt4all in /Users/leannchen/miniforge3/lib/python3.10/site-packages (2.2.1.post1)\n",
      "Requirement already satisfied: requests in /Users/leannchen/miniforge3/lib/python3.10/site-packages (from gpt4all) (2.31.0)\n",
      "Requirement already satisfied: tqdm in /Users/leannchen/miniforge3/lib/python3.10/site-packages (from gpt4all) (4.66.1)\n",
      "Requirement already satisfied: charset-normalizer<4,>=2 in /Users/leannchen/miniforge3/lib/python3.10/site-packages (from requests->gpt4all) (3.2.0)\n",
      "Requirement already satisfied: idna<4,>=2.5 in /Users/leannchen/miniforge3/lib/python3.10/site-packages (from requests->gpt4all) (3.4)\n",
      "Requirement already satisfied: urllib3<3,>=1.21.1 in /Users/leannchen/miniforge3/lib/python3.10/site-packages (from requests->gpt4all) (2.0.4)\n",
      "Requirement already satisfied: certifi>=2017.4.17 in /Users/leannchen/miniforge3/lib/python3.10/site-packages (from requests->gpt4all) (2023.11.17)\n"
     ]
    }
   ],
   "source": [
    "! pip install gpt4all"
   ]
  },
  {
   "cell_type": "code",
   "execution_count": 8,
   "id": "cb92dc38-4765-4d88-a94c-c39f27212f64",
   "metadata": {},
   "outputs": [
    {
     "name": "stdout",
     "output_type": "stream",
     "text": [
      "bert_load_from_file: gguf version     = 2\n",
      "bert_load_from_file: gguf alignment   = 32\n",
      "bert_load_from_file: gguf data offset = 695552\n",
      "bert_load_from_file: model name           = BERT\n",
      "bert_load_from_file: model architecture   = bert\n",
      "bert_load_from_file: model file type      = 1\n",
      "bert_load_from_file: bert tokenizer vocab = 30522\n"
     ]
    }
   ],
   "source": [
    "from langchain_community.embeddings import GPT4AllEmbeddings\n",
    "nomic_embedding = GPT4AllEmbeddings()"
   ]
  },
  {
   "cell_type": "code",
   "execution_count": 9,
   "id": "e2af629f-4079-41dd-bc7c-10020785e04f",
   "metadata": {},
   "outputs": [],
   "source": [
    "NOMIC_CHROMA_COLLECTION_NAME = \"dspy-rag-chroma-nomic\"\n",
    "NOMIC_CHROMADB_DIR = \"dspy_rag_chroma_nomic/\"\n",
    "\n",
    "# Index\n",
    "nomic_vectorstore = Chroma.from_documents(\n",
    "    documents=all_splits,\n",
    "    collection_name=NOMIC_CHROMA_COLLECTION_NAME,\n",
    "    embedding=nomic_embedding,\n",
    "    persist_directory=NOMIC_CHROMADB_DIR\n",
    ")\n",
    "\n",
    "nomic_retriever = nomic_vectorstore.as_retriever()\n",
    "\n",
    "nomic_rm = ChromadbRM(NOMIC_CHROMA_COLLECTION_NAME, NOMIC_CHROMADB_DIR, k=3)"
   ]
  },
  {
   "cell_type": "code",
   "execution_count": null,
   "id": "f23c2ee6-b0ea-446c-8235-ff3c01046f9a",
   "metadata": {},
   "outputs": [],
   "source": [
    "! pip install sentence_transformers"
   ]
  },
  {
   "cell_type": "markdown",
   "id": "8281f98a-ba08-4c61-9837-e1b764c7195d",
   "metadata": {},
   "source": [
    "# Build Knowlegde Graph of Elon Musk with Diffbot's Natural Language API"
   ]
  },
  {
   "cell_type": "markdown",
   "id": "7e90afe1-66e2-47df-b69b-83ed490f7caa",
   "metadata": {},
   "source": [
    "You can now FREELY access all Diffbot APIs (including the Diffbot Natural Language API), which helps construct knowledge graph data and you can further load into any graph database you prefer such as Neo4j, TigerGraph, Kùzu or NebulaGraph) at: https://app.diffbot.com"
   ]
  },
  {
   "cell_type": "markdown",
   "id": "d5115e55-ae3d-4dea-b61a-6ed0ef23663a",
   "metadata": {},
   "source": [
    "No more free trials because it's FREE!"
   ]
  },
  {
   "cell_type": "code",
   "execution_count": 43,
   "id": "59a33a80-17a5-4681-8843-e416d818e770",
   "metadata": {},
   "outputs": [],
   "source": [
    "# DiffbotGraphTransformer calls Diffbot Natural Language API to extract entities and relationships in the article\n",
    "from langchain_experimental.graph_transformers.diffbot import DiffbotGraphTransformer\n",
    "import os\n",
    "\n",
    "diffbot_api_key = \"Diffbot-token\" \n",
    "\n",
    "diffbot_nlp = DiffbotGraphTransformer(diffbot_api_key=diffbot_api_key)\n",
    "\n",
    "# Diffbot's Natural Language API converts unstructured text data into knowlegde graphs\n",
    "graph_documents = diffbot_nlp.convert_to_graph_documents(raw_documents)\n",
    "\n",
    "# add knowledge graph data to the neo4j database\n",
    "graph.add_graph_documents(graph_documents)"
   ]
  },
  {
   "cell_type": "code",
   "execution_count": 13,
   "id": "1df2cc1b-2b7f-4bf0-b89a-490f4f168275",
   "metadata": {},
   "outputs": [],
   "source": [
    "# connect to our neo4j database\n",
    "from langchain_community.graphs import Neo4jGraph\n",
    "\n",
    "url = \"url\"\n",
    "username = \"neo4j\"\n",
    "password = \"pwd\"\n",
    "\n",
    "graph = Neo4jGraph(url=url, username=username, password=password)"
   ]
  },
  {
   "cell_type": "markdown",
   "id": "e52d1e1b-3898-4e39-8cbe-1cb0a821d17f",
   "metadata": {},
   "source": [
    "# Vanilla DSPy RAG Pipeline"
   ]
  },
  {
   "cell_type": "code",
   "execution_count": 10,
   "id": "99c30f09-f3bc-4bbc-aa89-ab004b9b7aff",
   "metadata": {},
   "outputs": [],
   "source": [
    "class GenerateAnswer(dspy.Signature):\n",
    "    \"\"\"Answer questions with short factoid answers.\"\"\"\n",
    "\n",
    "    context = dspy.InputField(desc=\"may contain relevant facts\")\n",
    "    question = dspy.InputField()\n",
    "    answer = dspy.OutputField(desc=\"often between 1 and 5 words\")\n",
    "\n",
    "class vanilla_dspy_rag(dspy.Module):\n",
    "    \n",
    "    # we set num_passages=1 to avoid the same passage being repeatedly retrieved for multiple times\n",
    "    def __init__(self, num_passages=3):\n",
    "        super().__init__()\n",
    "\n",
    "        self.retrieve = dspy.Retrieve(k=num_passages)\n",
    "        self.generate_answer = dspy.ChainOfThought(GenerateAnswer)\n",
    "    \n",
    "    def forward(self, question):\n",
    "        context = self.retrieve(question).passages\n",
    "        prediction = self.generate_answer(context=context, question=question)\n",
    "        return dspy.Prediction(context=context, answer=prediction.answer)"
   ]
  },
  {
   "cell_type": "markdown",
   "id": "7a813b62-29fd-4b28-bedb-3b7b121479b3",
   "metadata": {},
   "source": [
    "# Vanilla DSPy RAG - ada--002 embedding + gpt3.5"
   ]
  },
  {
   "cell_type": "code",
   "execution_count": 9,
   "id": "84bbf22c-d8eb-42de-a02b-05fbcb5450bc",
   "metadata": {},
   "outputs": [
    {
     "data": {
      "text/plain": [
       "Prediction(\n",
       "    context=[\"In 2004, Musk became an early investor in electric vehicle manufacturer Tesla Motors, Inc. (later Tesla, Inc.). He became the company's chairman and product architect, assuming the position of CEO in 2008. In 2006, Musk helped create SolarCity, a solar-energy company that was acquired by Tesla in 2016 and became Tesla Energy. In 2013, he proposed a hyperloop high-speed vactrain transportation system. In 2015, he co-founded OpenAI, a nonprofit artificial intelligence research company. The following year, Musk co-founded Neuralink—a neurotechnology company developing brain–computer interfaces—and the Boring Company, a tunnel construction company. In 2018, the U.S. Securities and Exchange Commission (SEC) sued Musk, alleging that he had falsely announced that he had secured funding for a private takeover of Tesla. To settle the case, Musk stepped down as the chairman of Tesla and paid a $20 million fine. In 2022, he acquired Twitter for $44 billion. He subsequently merged the company into newly created X Corp. and rebranded the service as X the following year. In March 2023, Musk founded xAI, an artificial intelligence company.\\nMusk has expressed views that have made him a polarizing figure. He has been criticized for making unscientific and misleading statements, including COVID-19 misinformation and antisemitic conspiracy theories. His ownership of Twitter has been similarly controversial, being marked by layoffs of large numbers of employees, an increase in hate speech and misinformation and disinformation on the website, and changes to Twitter Blue verification.\", \"In 2004, Musk became an early investor in electric vehicle manufacturer Tesla Motors, Inc. (later Tesla, Inc.). He became the company's chairman and product architect, assuming the position of CEO in 2008. In 2006, Musk helped create SolarCity, a solar-energy company that was acquired by Tesla in 2016 and became Tesla Energy. In 2013, he proposed a hyperloop high-speed vactrain transportation system. In 2015, he co-founded OpenAI, a nonprofit artificial intelligence research company. The following year, Musk co-founded Neuralink—a neurotechnology company developing brain–computer interfaces—and the Boring Company, a tunnel construction company. In 2018, the U.S. Securities and Exchange Commission (SEC) sued Musk, alleging that he had falsely announced that he had secured funding for a private takeover of Tesla. To settle the case, Musk stepped down as the chairman of Tesla and paid a $20 million fine. In 2022, he acquired Twitter for $44 billion. He subsequently merged the company into newly created X Corp. and rebranded the service as X the following year. In March 2023, Musk founded xAI, an artificial intelligence company.\\nMusk has expressed views that have made him a polarizing figure. He has been criticized for making unscientific and misleading statements, including COVID-19 misinformation and antisemitic conspiracy theories. His ownership of Twitter has been similarly controversial, being marked by layoffs of large numbers of employees, an increase in hate speech and misinformation and disinformation on the website, and changes to Twitter Blue verification.\", \"In 2004, Musk became an early investor in electric vehicle manufacturer Tesla Motors, Inc. (later Tesla, Inc.). He became the company's chairman and product architect, assuming the position of CEO in 2008. In 2006, Musk helped create SolarCity, a solar-energy company that was acquired by Tesla in 2016 and became Tesla Energy. In 2013, he proposed a hyperloop high-speed vactrain transportation system. In 2015, he co-founded OpenAI, a nonprofit artificial intelligence research company. The following year, Musk co-founded Neuralink—a neurotechnology company developing brain–computer interfaces—and the Boring Company, a tunnel construction company. In 2018, the U.S. Securities and Exchange Commission (SEC) sued Musk, alleging that he had falsely announced that he had secured funding for a private takeover of Tesla. To settle the case, Musk stepped down as the chairman of Tesla and paid a $20 million fine. In 2022, he acquired Twitter for $44 billion. He subsequently merged the company into newly created X Corp. and rebranded the service as X the following year. In March 2023, Musk founded xAI, an artificial intelligence company.\\nMusk has expressed views that have made him a polarizing figure. He has been criticized for making unscientific and misleading statements, including COVID-19 misinformation and antisemitic conspiracy theories. His ownership of Twitter has been similarly controversial, being marked by layoffs of large numbers of employees, an increase in hate speech and misinformation and disinformation on the website, and changes to Twitter Blue verification.\"],\n",
       "    answer='SolarCity, OpenAI, Neuralink, The Boring Company, xAI'\n",
       ")"
      ]
     },
     "execution_count": 9,
     "metadata": {},
     "output_type": "execute_result"
    }
   ],
   "source": [
    "# ada--002 embedding model + gpt3.5 language model\n",
    "lm_gpt35 = dspy.OpenAI(model='gpt-3.5-turbo-instruct')\n",
    "dspy.settings.configure(lm=lm_gpt35, rm=ada_rm)\n",
    "\n",
    "question_org_elon_cofounded = \"List out the companies that Elon Musk co-founded with other founders.\"\n",
    "vanilla_dspy_rag_ada_gpt35 = vanilla_dspy_rag()\n",
    "vanilla_dspy_rag_q1 = vanilla_dspy_rag_ada_gpt35.forward(question=question_org_elon_cofounded)\n",
    "vanilla_dspy_rag_q1"
   ]
  },
  {
   "cell_type": "code",
   "execution_count": 10,
   "id": "29ba3a01-a866-4175-9283-1d2eae73a139",
   "metadata": {},
   "outputs": [
    {
     "data": {
      "text/plain": [
       "Prediction(\n",
       "    context=[\"Elon Reeve Musk ( EE-lon; born June 28, 1971) is a businessman and investor. He is the founder, chairman, CEO, and CTO of SpaceX; angel investor, CEO, product architect, and former chairman of Tesla, Inc.; owner, executive chairman, and CTO of X Corp.; founder of the Boring Company and xAI; co-founder of Neuralink and OpenAI; and president of the Musk Foundation. He is one of the wealthiest people in the world; as of April 2024, Forbes estimates his net worth to be $178 billion. \\nA member of the wealthy South African Musk family, Musk was born in Pretoria and briefly attended the University of Pretoria before immigrating to Canada at age 18, acquiring citizenship through his Canadian-born mother. Two years later, he matriculated at Queen's University at Kingston in Canada. Musk later transferred to the University of Pennsylvania and received bachelor's degrees in economics and physics. He moved to California in 1995 to attend Stanford University, but dropped out after two days and, with his brother Kimbal, co-founded online city guide software company Zip2. The startup was acquired by Compaq for $307 million in 1999. That same year, Musk co-founded X.com, a direct bank. X.com merged with Confinity in 2000 to form PayPal. In October 2002, eBay acquired PayPal for $1.5 billion. Using $100 million of the money he made from the sale of PayPal, Musk founded SpaceX, a spaceflight services company, in 2002.\", \"Elon Reeve Musk ( EE-lon; born June 28, 1971) is a businessman and investor. He is the founder, chairman, CEO, and CTO of SpaceX; angel investor, CEO, product architect, and former chairman of Tesla, Inc.; owner, executive chairman, and CTO of X Corp.; founder of the Boring Company and xAI; co-founder of Neuralink and OpenAI; and president of the Musk Foundation. He is one of the wealthiest people in the world; as of April 2024, Forbes estimates his net worth to be $178 billion. \\nA member of the wealthy South African Musk family, Musk was born in Pretoria and briefly attended the University of Pretoria before immigrating to Canada at age 18, acquiring citizenship through his Canadian-born mother. Two years later, he matriculated at Queen's University at Kingston in Canada. Musk later transferred to the University of Pennsylvania and received bachelor's degrees in economics and physics. He moved to California in 1995 to attend Stanford University, but dropped out after two days and, with his brother Kimbal, co-founded online city guide software company Zip2. The startup was acquired by Compaq for $307 million in 1999. That same year, Musk co-founded X.com, a direct bank. X.com merged with Confinity in 2000 to form PayPal. In October 2002, eBay acquired PayPal for $1.5 billion. Using $100 million of the money he made from the sale of PayPal, Musk founded SpaceX, a spaceflight services company, in 2002.\", \"Elon Reeve Musk ( EE-lon; born June 28, 1971) is a businessman and investor. He is the founder, chairman, CEO, and CTO of SpaceX; angel investor, CEO, product architect, and former chairman of Tesla, Inc.; owner, executive chairman, and CTO of X Corp.; founder of the Boring Company and xAI; co-founder of Neuralink and OpenAI; and president of the Musk Foundation. He is one of the wealthiest people in the world; as of April 2024, Forbes estimates his net worth to be $178 billion. \\nA member of the wealthy South African Musk family, Musk was born in Pretoria and briefly attended the University of Pretoria before immigrating to Canada at age 18, acquiring citizenship through his Canadian-born mother. Two years later, he matriculated at Queen's University at Kingston in Canada. Musk later transferred to the University of Pennsylvania and received bachelor's degrees in economics and physics. He moved to California in 1995 to attend Stanford University, but dropped out after two days and, with his brother Kimbal, co-founded online city guide software company Zip2. The startup was acquired by Compaq for $307 million in 1999. That same year, Musk co-founded X.com, a direct bank. X.com merged with Confinity in 2000 to form PayPal. In October 2002, eBay acquired PayPal for $1.5 billion. Using $100 million of the money he made from the sale of PayPal, Musk founded SpaceX, a spaceflight services company, in 2002.\"],\n",
       "    answer='With other founders.'\n",
       ")"
      ]
     },
     "execution_count": 10,
     "metadata": {},
     "output_type": "execute_result"
    }
   ],
   "source": [
    "# ada--002 embedding model + gpt3.5 language model\n",
    "question_org_elon_cofounded_1a = \"Did Elon Musk co-found SpaceX with other founders?\"\n",
    "vanilla_dspy_rag_q1a = vanilla_dspy_rag_ada_gpt35.forward(question=question_org_elon_cofounded_1a)\n",
    "vanilla_dspy_rag_q1a"
   ]
  },
  {
   "cell_type": "code",
   "execution_count": 14,
   "id": "adfd837b-30ab-40af-9ea2-a22e646abb8c",
   "metadata": {},
   "outputs": [
    {
     "data": {
      "text/plain": [
       "Prediction(\n",
       "    context=[\"Elon Reeve Musk ( EE-lon; born June 28, 1971) is a businessman and investor. He is the founder, chairman, CEO, and CTO of SpaceX; angel investor, CEO, product architect, and former chairman of Tesla, Inc.; owner, executive chairman, and CTO of X Corp.; founder of the Boring Company and xAI; co-founder of Neuralink and OpenAI; and president of the Musk Foundation. He is one of the wealthiest people in the world; as of April 2024, Forbes estimates his net worth to be $178 billion. \\nA member of the wealthy South African Musk family, Musk was born in Pretoria and briefly attended the University of Pretoria before immigrating to Canada at age 18, acquiring citizenship through his Canadian-born mother. Two years later, he matriculated at Queen's University at Kingston in Canada. Musk later transferred to the University of Pennsylvania and received bachelor's degrees in economics and physics. He moved to California in 1995 to attend Stanford University, but dropped out after two days and, with his brother Kimbal, co-founded online city guide software company Zip2. The startup was acquired by Compaq for $307 million in 1999. That same year, Musk co-founded X.com, a direct bank. X.com merged with Confinity in 2000 to form PayPal. In October 2002, eBay acquired PayPal for $1.5 billion. Using $100 million of the money he made from the sale of PayPal, Musk founded SpaceX, a spaceflight services company, in 2002.\", \"Elon Reeve Musk ( EE-lon; born June 28, 1971) is a businessman and investor. He is the founder, chairman, CEO, and CTO of SpaceX; angel investor, CEO, product architect, and former chairman of Tesla, Inc.; owner, executive chairman, and CTO of X Corp.; founder of the Boring Company and xAI; co-founder of Neuralink and OpenAI; and president of the Musk Foundation. He is one of the wealthiest people in the world; as of April 2024, Forbes estimates his net worth to be $178 billion. \\nA member of the wealthy South African Musk family, Musk was born in Pretoria and briefly attended the University of Pretoria before immigrating to Canada at age 18, acquiring citizenship through his Canadian-born mother. Two years later, he matriculated at Queen's University at Kingston in Canada. Musk later transferred to the University of Pennsylvania and received bachelor's degrees in economics and physics. He moved to California in 1995 to attend Stanford University, but dropped out after two days and, with his brother Kimbal, co-founded online city guide software company Zip2. The startup was acquired by Compaq for $307 million in 1999. That same year, Musk co-founded X.com, a direct bank. X.com merged with Confinity in 2000 to form PayPal. In October 2002, eBay acquired PayPal for $1.5 billion. Using $100 million of the money he made from the sale of PayPal, Musk founded SpaceX, a spaceflight services company, in 2002.\", \"Elon Reeve Musk ( EE-lon; born June 28, 1971) is a businessman and investor. He is the founder, chairman, CEO, and CTO of SpaceX; angel investor, CEO, product architect, and former chairman of Tesla, Inc.; owner, executive chairman, and CTO of X Corp.; founder of the Boring Company and xAI; co-founder of Neuralink and OpenAI; and president of the Musk Foundation. He is one of the wealthiest people in the world; as of April 2024, Forbes estimates his net worth to be $178 billion. \\nA member of the wealthy South African Musk family, Musk was born in Pretoria and briefly attended the University of Pretoria before immigrating to Canada at age 18, acquiring citizenship through his Canadian-born mother. Two years later, he matriculated at Queen's University at Kingston in Canada. Musk later transferred to the University of Pennsylvania and received bachelor's degrees in economics and physics. He moved to California in 1995 to attend Stanford University, but dropped out after two days and, with his brother Kimbal, co-founded online city guide software company Zip2. The startup was acquired by Compaq for $307 million in 1999. That same year, Musk co-founded X.com, a direct bank. X.com merged with Confinity in 2000 to form PayPal. In October 2002, eBay acquired PayPal for $1.5 billion. Using $100 million of the money he made from the sale of PayPal, Musk founded SpaceX, a spaceflight services company, in 2002.\"],\n",
       "    answer='His brother Kimbal.'\n",
       ")"
      ]
     },
     "execution_count": 14,
     "metadata": {},
     "output_type": "execute_result"
    }
   ],
   "source": [
    "# ada--002 embedding model + gpt3.5 language model\n",
    "question_org_elon_cofounded_1b = \"What are the other founders Elon Musk co-founded SpaceX with?\"\n",
    "vanilla_dspy_rag_q1b = vanilla_dspy_rag_ada_gpt35.forward(question=question_org_elon_cofounded_1b)\n",
    "vanilla_dspy_rag_q1b"
   ]
  },
  {
   "cell_type": "code",
   "execution_count": 12,
   "id": "e82af743-4c10-4de6-8f5c-b74b800c195f",
   "metadata": {},
   "outputs": [
    {
     "data": {
      "text/plain": [
       "Prediction(\n",
       "    context=['== History ==\\n\\nMusk announced the idea of the Boring Company in December 2016, and it was officially registered as \"TBC – The Boring Company\" on January 11, 2017. Musk cited difficulty with Los Angeles traffic, and what he sees as limitations of its two-dimensional transportation network, as his early inspiration for the project. The Boring Company was formed as a SpaceX subsidiary. According to Musk, the company\\'s goal is to enhance tunneling speed enough such that establishing a tunnel network is financially feasible. In early 2018, the Boring Company was spun out from SpaceX and into a separate corporate entity. Somewhat less than 10% of equity was given to early employees, and over 90% to Elon Musk. Early employees came from a variety of different backgrounds, including those from SpaceX.\\nThe company began designing its own tunnel boring machines, and completed several tests in Hawthorne, California. The Hawthorne test tunnel opened to the public on December 18, 2018.In July 2019, the Boring Company sold US$120 million in stock to venture capital firms, after raising $113 million in non-outside capital during 2018. By November 2019, Steve Davis had become company president after leading efforts for Musk since 2016. Davis was one of the earliest hires at SpaceX (in 2003) and has twin master\\'s degrees in particle physics and aerospace engineering.In November 2020, TBC announced hiring for positions in Austin, Texas, and by December 2020 had leased two buildings in a 14-acre (5.7 ha) industrial complex northeast of Austin, approximately 16 miles (26 km) north of Texas Gigafactory.On April 20, 2022, the company announced an additional $675 million Series C funding round, valuing the company at approximately $5.675 billion. The round was led by Vy Capital and Sequoia Capital, with participation from Valor Equity Partners, Founders Fund, 8VC, Craft Ventures, and DFJ Growth.\\nIn 2022, the company was cited by the Texas Commission on Environmental Quality for five violations of Texas environmental regulations.Sometime before April 2023, the company moved their headquarters and engineering facilities to Bastrop, Texas.Currently, tunnels connecting different parts of the LVCC are open, and a tunnel to Resorts World started operating in July 2023.', '== History ==\\n\\nMusk announced the idea of the Boring Company in December 2016, and it was officially registered as \"TBC – The Boring Company\" on January 11, 2017. Musk cited difficulty with Los Angeles traffic, and what he sees as limitations of its two-dimensional transportation network, as his early inspiration for the project. The Boring Company was formed as a SpaceX subsidiary. According to Musk, the company\\'s goal is to enhance tunneling speed enough such that establishing a tunnel network is financially feasible. In early 2018, the Boring Company was spun out from SpaceX and into a separate corporate entity. Somewhat less than 10% of equity was given to early employees, and over 90% to Elon Musk. Early employees came from a variety of different backgrounds, including those from SpaceX.\\nThe company began designing its own tunnel boring machines, and completed several tests in Hawthorne, California. The Hawthorne test tunnel opened to the public on December 18, 2018.In July 2019, the Boring Company sold US$120 million in stock to venture capital firms, after raising $113 million in non-outside capital during 2018. By November 2019, Steve Davis had become company president after leading efforts for Musk since 2016. Davis was one of the earliest hires at SpaceX (in 2003) and has twin master\\'s degrees in particle physics and aerospace engineering.In November 2020, TBC announced hiring for positions in Austin, Texas, and by December 2020 had leased two buildings in a 14-acre (5.7 ha) industrial complex northeast of Austin, approximately 16 miles (26 km) north of Texas Gigafactory.On April 20, 2022, the company announced an additional $675 million Series C funding round, valuing the company at approximately $5.675 billion. The round was led by Vy Capital and Sequoia Capital, with participation from Valor Equity Partners, Founders Fund, 8VC, Craft Ventures, and DFJ Growth.\\nIn 2022, the company was cited by the Texas Commission on Environmental Quality for five violations of Texas environmental regulations.Sometime before April 2023, the company moved their headquarters and engineering facilities to Bastrop, Texas.Currently, tunnels connecting different parts of the LVCC are open, and a tunnel to Resorts World started operating in July 2023.', '== History ==\\n\\nMusk announced the idea of the Boring Company in December 2016, and it was officially registered as \"TBC – The Boring Company\" on January 11, 2017. Musk cited difficulty with Los Angeles traffic, and what he sees as limitations of its two-dimensional transportation network, as his early inspiration for the project. The Boring Company was formed as a SpaceX subsidiary. According to Musk, the company\\'s goal is to enhance tunneling speed enough such that establishing a tunnel network is financially feasible. In early 2018, the Boring Company was spun out from SpaceX and into a separate corporate entity. Somewhat less than 10% of equity was given to early employees, and over 90% to Elon Musk. Early employees came from a variety of different backgrounds, including those from SpaceX.\\nThe company began designing its own tunnel boring machines, and completed several tests in Hawthorne, California. The Hawthorne test tunnel opened to the public on December 18, 2018.In July 2019, the Boring Company sold US$120 million in stock to venture capital firms, after raising $113 million in non-outside capital during 2018. By November 2019, Steve Davis had become company president after leading efforts for Musk since 2016. Davis was one of the earliest hires at SpaceX (in 2003) and has twin master\\'s degrees in particle physics and aerospace engineering.In November 2020, TBC announced hiring for positions in Austin, Texas, and by December 2020 had leased two buildings in a 14-acre (5.7 ha) industrial complex northeast of Austin, approximately 16 miles (26 km) north of Texas Gigafactory.On April 20, 2022, the company announced an additional $675 million Series C funding round, valuing the company at approximately $5.675 billion. The round was led by Vy Capital and Sequoia Capital, with participation from Valor Equity Partners, Founders Fund, 8VC, Craft Ventures, and DFJ Growth.\\nIn 2022, the company was cited by the Texas Commission on Environmental Quality for five violations of Texas environmental regulations.Sometime before April 2023, the company moved their headquarters and engineering facilities to Bastrop, Texas.Currently, tunnels connecting different parts of the LVCC are open, and a tunnel to Resorts World started operating in July 2023.'],\n",
       "    answer='No'\n",
       ")"
      ]
     },
     "execution_count": 12,
     "metadata": {},
     "output_type": "execute_result"
    }
   ],
   "source": [
    "# ada--002 embedding model + gpt3.5 language model\n",
    "question_org_elon_cofounded_1c = \"Did Elon co-found The Boring Company with other founders?\"\n",
    "vanilla_dspy_rag_q1c = vanilla_dspy_rag_ada_gpt35.forward(question=question_org_elon_cofounded_1c)\n",
    "vanilla_dspy_rag_q1c"
   ]
  },
  {
   "cell_type": "code",
   "execution_count": 13,
   "id": "2fe9ce44-2e4a-4aba-9a0f-174aa57f903d",
   "metadata": {},
   "outputs": [
    {
     "data": {
      "text/plain": [
       "Prediction(\n",
       "    context=['== History ==\\n\\nMusk announced the idea of the Boring Company in December 2016, and it was officially registered as \"TBC – The Boring Company\" on January 11, 2017. Musk cited difficulty with Los Angeles traffic, and what he sees as limitations of its two-dimensional transportation network, as his early inspiration for the project. The Boring Company was formed as a SpaceX subsidiary. According to Musk, the company\\'s goal is to enhance tunneling speed enough such that establishing a tunnel network is financially feasible. In early 2018, the Boring Company was spun out from SpaceX and into a separate corporate entity. Somewhat less than 10% of equity was given to early employees, and over 90% to Elon Musk. Early employees came from a variety of different backgrounds, including those from SpaceX.\\nThe company began designing its own tunnel boring machines, and completed several tests in Hawthorne, California. The Hawthorne test tunnel opened to the public on December 18, 2018.In July 2019, the Boring Company sold US$120 million in stock to venture capital firms, after raising $113 million in non-outside capital during 2018. By November 2019, Steve Davis had become company president after leading efforts for Musk since 2016. Davis was one of the earliest hires at SpaceX (in 2003) and has twin master\\'s degrees in particle physics and aerospace engineering.In November 2020, TBC announced hiring for positions in Austin, Texas, and by December 2020 had leased two buildings in a 14-acre (5.7 ha) industrial complex northeast of Austin, approximately 16 miles (26 km) north of Texas Gigafactory.On April 20, 2022, the company announced an additional $675 million Series C funding round, valuing the company at approximately $5.675 billion. The round was led by Vy Capital and Sequoia Capital, with participation from Valor Equity Partners, Founders Fund, 8VC, Craft Ventures, and DFJ Growth.\\nIn 2022, the company was cited by the Texas Commission on Environmental Quality for five violations of Texas environmental regulations.Sometime before April 2023, the company moved their headquarters and engineering facilities to Bastrop, Texas.Currently, tunnels connecting different parts of the LVCC are open, and a tunnel to Resorts World started operating in July 2023.', '== History ==\\n\\nMusk announced the idea of the Boring Company in December 2016, and it was officially registered as \"TBC – The Boring Company\" on January 11, 2017. Musk cited difficulty with Los Angeles traffic, and what he sees as limitations of its two-dimensional transportation network, as his early inspiration for the project. The Boring Company was formed as a SpaceX subsidiary. According to Musk, the company\\'s goal is to enhance tunneling speed enough such that establishing a tunnel network is financially feasible. In early 2018, the Boring Company was spun out from SpaceX and into a separate corporate entity. Somewhat less than 10% of equity was given to early employees, and over 90% to Elon Musk. Early employees came from a variety of different backgrounds, including those from SpaceX.\\nThe company began designing its own tunnel boring machines, and completed several tests in Hawthorne, California. The Hawthorne test tunnel opened to the public on December 18, 2018.In July 2019, the Boring Company sold US$120 million in stock to venture capital firms, after raising $113 million in non-outside capital during 2018. By November 2019, Steve Davis had become company president after leading efforts for Musk since 2016. Davis was one of the earliest hires at SpaceX (in 2003) and has twin master\\'s degrees in particle physics and aerospace engineering.In November 2020, TBC announced hiring for positions in Austin, Texas, and by December 2020 had leased two buildings in a 14-acre (5.7 ha) industrial complex northeast of Austin, approximately 16 miles (26 km) north of Texas Gigafactory.On April 20, 2022, the company announced an additional $675 million Series C funding round, valuing the company at approximately $5.675 billion. The round was led by Vy Capital and Sequoia Capital, with participation from Valor Equity Partners, Founders Fund, 8VC, Craft Ventures, and DFJ Growth.\\nIn 2022, the company was cited by the Texas Commission on Environmental Quality for five violations of Texas environmental regulations.Sometime before April 2023, the company moved their headquarters and engineering facilities to Bastrop, Texas.Currently, tunnels connecting different parts of the LVCC are open, and a tunnel to Resorts World started operating in July 2023.', '== History ==\\n\\nMusk announced the idea of the Boring Company in December 2016, and it was officially registered as \"TBC – The Boring Company\" on January 11, 2017. Musk cited difficulty with Los Angeles traffic, and what he sees as limitations of its two-dimensional transportation network, as his early inspiration for the project. The Boring Company was formed as a SpaceX subsidiary. According to Musk, the company\\'s goal is to enhance tunneling speed enough such that establishing a tunnel network is financially feasible. In early 2018, the Boring Company was spun out from SpaceX and into a separate corporate entity. Somewhat less than 10% of equity was given to early employees, and over 90% to Elon Musk. Early employees came from a variety of different backgrounds, including those from SpaceX.\\nThe company began designing its own tunnel boring machines, and completed several tests in Hawthorne, California. The Hawthorne test tunnel opened to the public on December 18, 2018.In July 2019, the Boring Company sold US$120 million in stock to venture capital firms, after raising $113 million in non-outside capital during 2018. By November 2019, Steve Davis had become company president after leading efforts for Musk since 2016. Davis was one of the earliest hires at SpaceX (in 2003) and has twin master\\'s degrees in particle physics and aerospace engineering.In November 2020, TBC announced hiring for positions in Austin, Texas, and by December 2020 had leased two buildings in a 14-acre (5.7 ha) industrial complex northeast of Austin, approximately 16 miles (26 km) north of Texas Gigafactory.On April 20, 2022, the company announced an additional $675 million Series C funding round, valuing the company at approximately $5.675 billion. The round was led by Vy Capital and Sequoia Capital, with participation from Valor Equity Partners, Founders Fund, 8VC, Craft Ventures, and DFJ Growth.\\nIn 2022, the company was cited by the Texas Commission on Environmental Quality for five violations of Texas environmental regulations.Sometime before April 2023, the company moved their headquarters and engineering facilities to Bastrop, Texas.Currently, tunnels connecting different parts of the LVCC are open, and a tunnel to Resorts World started operating in July 2023.'],\n",
       "    answer='Yes'\n",
       ")"
      ]
     },
     "execution_count": 13,
     "metadata": {},
     "output_type": "execute_result"
    }
   ],
   "source": [
    "# ada--002 embedding model + gpt3.5 language model\n",
    "question_org_elon_cofounded_1d = \"Is The Boring Company one of the companies Elon co-founded with other founders?\"\n",
    "vanilla_dspy_rag_q1d = vanilla_dspy_rag_ada_gpt35.forward(question=question_org_elon_cofounded_1d)\n",
    "vanilla_dspy_rag_q1d"
   ]
  },
  {
   "cell_type": "code",
   "execution_count": 14,
   "id": "7d3d278c-8d9b-4634-8a98-923146e12f3d",
   "metadata": {},
   "outputs": [
    {
     "data": {
      "text/plain": [
       "Prediction(\n",
       "    context=[\"In 2004, Musk became an early investor in electric vehicle manufacturer Tesla Motors, Inc. (later Tesla, Inc.). He became the company's chairman and product architect, assuming the position of CEO in 2008. In 2006, Musk helped create SolarCity, a solar-energy company that was acquired by Tesla in 2016 and became Tesla Energy. In 2013, he proposed a hyperloop high-speed vactrain transportation system. In 2015, he co-founded OpenAI, a nonprofit artificial intelligence research company. The following year, Musk co-founded Neuralink—a neurotechnology company developing brain–computer interfaces—and the Boring Company, a tunnel construction company. In 2018, the U.S. Securities and Exchange Commission (SEC) sued Musk, alleging that he had falsely announced that he had secured funding for a private takeover of Tesla. To settle the case, Musk stepped down as the chairman of Tesla and paid a $20 million fine. In 2022, he acquired Twitter for $44 billion. He subsequently merged the company into newly created X Corp. and rebranded the service as X the following year. In March 2023, Musk founded xAI, an artificial intelligence company.\\nMusk has expressed views that have made him a polarizing figure. He has been criticized for making unscientific and misleading statements, including COVID-19 misinformation and antisemitic conspiracy theories. His ownership of Twitter has been similarly controversial, being marked by layoffs of large numbers of employees, an increase in hate speech and misinformation and disinformation on the website, and changes to Twitter Blue verification.\", \"In 2004, Musk became an early investor in electric vehicle manufacturer Tesla Motors, Inc. (later Tesla, Inc.). He became the company's chairman and product architect, assuming the position of CEO in 2008. In 2006, Musk helped create SolarCity, a solar-energy company that was acquired by Tesla in 2016 and became Tesla Energy. In 2013, he proposed a hyperloop high-speed vactrain transportation system. In 2015, he co-founded OpenAI, a nonprofit artificial intelligence research company. The following year, Musk co-founded Neuralink—a neurotechnology company developing brain–computer interfaces—and the Boring Company, a tunnel construction company. In 2018, the U.S. Securities and Exchange Commission (SEC) sued Musk, alleging that he had falsely announced that he had secured funding for a private takeover of Tesla. To settle the case, Musk stepped down as the chairman of Tesla and paid a $20 million fine. In 2022, he acquired Twitter for $44 billion. He subsequently merged the company into newly created X Corp. and rebranded the service as X the following year. In March 2023, Musk founded xAI, an artificial intelligence company.\\nMusk has expressed views that have made him a polarizing figure. He has been criticized for making unscientific and misleading statements, including COVID-19 misinformation and antisemitic conspiracy theories. His ownership of Twitter has been similarly controversial, being marked by layoffs of large numbers of employees, an increase in hate speech and misinformation and disinformation on the website, and changes to Twitter Blue verification.\", \"In 2004, Musk became an early investor in electric vehicle manufacturer Tesla Motors, Inc. (later Tesla, Inc.). He became the company's chairman and product architect, assuming the position of CEO in 2008. In 2006, Musk helped create SolarCity, a solar-energy company that was acquired by Tesla in 2016 and became Tesla Energy. In 2013, he proposed a hyperloop high-speed vactrain transportation system. In 2015, he co-founded OpenAI, a nonprofit artificial intelligence research company. The following year, Musk co-founded Neuralink—a neurotechnology company developing brain–computer interfaces—and the Boring Company, a tunnel construction company. In 2018, the U.S. Securities and Exchange Commission (SEC) sued Musk, alleging that he had falsely announced that he had secured funding for a private takeover of Tesla. To settle the case, Musk stepped down as the chairman of Tesla and paid a $20 million fine. In 2022, he acquired Twitter for $44 billion. He subsequently merged the company into newly created X Corp. and rebranded the service as X the following year. In March 2023, Musk founded xAI, an artificial intelligence company.\\nMusk has expressed views that have made him a polarizing figure. He has been criticized for making unscientific and misleading statements, including COVID-19 misinformation and antisemitic conspiracy theories. His ownership of Twitter has been similarly controversial, being marked by layoffs of large numbers of employees, an increase in hate speech and misinformation and disinformation on the website, and changes to Twitter Blue verification.\"],\n",
       "    answer='SolarCity, OpenAI, Neuralink, The Boring Company, xAI'\n",
       ")"
      ]
     },
     "execution_count": 14,
     "metadata": {},
     "output_type": "execute_result"
    }
   ],
   "source": [
    "# ada--002 embedding model + gpt3.5 language model\n",
    "question_org_elon_cofounded_1e = \"List out the companies that Elon Musk co-founded with other founders.\"\n",
    "vanilla_dspy_rag_q1e = vanilla_dspy_rag_ada_gpt35.forward(question=question_org_elon_cofounded_1e)\n",
    "vanilla_dspy_rag_q1e"
   ]
  },
  {
   "cell_type": "markdown",
   "id": "fb9cf8bc-b532-48f8-b24b-e557dedb4e25",
   "metadata": {},
   "source": [
    "# Vanilla DSPy RAG - ada--002 embedding + Llama3 (as language model)"
   ]
  },
  {
   "cell_type": "code",
   "execution_count": 15,
   "id": "5f02d2b2-eca7-4a27-af81-0522efd14fd6",
   "metadata": {},
   "outputs": [
    {
     "data": {
      "text/plain": [
       "Prediction(\n",
       "    context=[\"In 2004, Musk became an early investor in electric vehicle manufacturer Tesla Motors, Inc. (later Tesla, Inc.). He became the company's chairman and product architect, assuming the position of CEO in 2008. In 2006, Musk helped create SolarCity, a solar-energy company that was acquired by Tesla in 2016 and became Tesla Energy. In 2013, he proposed a hyperloop high-speed vactrain transportation system. In 2015, he co-founded OpenAI, a nonprofit artificial intelligence research company. The following year, Musk co-founded Neuralink—a neurotechnology company developing brain–computer interfaces—and the Boring Company, a tunnel construction company. In 2018, the U.S. Securities and Exchange Commission (SEC) sued Musk, alleging that he had falsely announced that he had secured funding for a private takeover of Tesla. To settle the case, Musk stepped down as the chairman of Tesla and paid a $20 million fine. In 2022, he acquired Twitter for $44 billion. He subsequently merged the company into newly created X Corp. and rebranded the service as X the following year. In March 2023, Musk founded xAI, an artificial intelligence company.\\nMusk has expressed views that have made him a polarizing figure. He has been criticized for making unscientific and misleading statements, including COVID-19 misinformation and antisemitic conspiracy theories. His ownership of Twitter has been similarly controversial, being marked by layoffs of large numbers of employees, an increase in hate speech and misinformation and disinformation on the website, and changes to Twitter Blue verification.\", \"In 2004, Musk became an early investor in electric vehicle manufacturer Tesla Motors, Inc. (later Tesla, Inc.). He became the company's chairman and product architect, assuming the position of CEO in 2008. In 2006, Musk helped create SolarCity, a solar-energy company that was acquired by Tesla in 2016 and became Tesla Energy. In 2013, he proposed a hyperloop high-speed vactrain transportation system. In 2015, he co-founded OpenAI, a nonprofit artificial intelligence research company. The following year, Musk co-founded Neuralink—a neurotechnology company developing brain–computer interfaces—and the Boring Company, a tunnel construction company. In 2018, the U.S. Securities and Exchange Commission (SEC) sued Musk, alleging that he had falsely announced that he had secured funding for a private takeover of Tesla. To settle the case, Musk stepped down as the chairman of Tesla and paid a $20 million fine. In 2022, he acquired Twitter for $44 billion. He subsequently merged the company into newly created X Corp. and rebranded the service as X the following year. In March 2023, Musk founded xAI, an artificial intelligence company.\\nMusk has expressed views that have made him a polarizing figure. He has been criticized for making unscientific and misleading statements, including COVID-19 misinformation and antisemitic conspiracy theories. His ownership of Twitter has been similarly controversial, being marked by layoffs of large numbers of employees, an increase in hate speech and misinformation and disinformation on the website, and changes to Twitter Blue verification.\", \"In 2004, Musk became an early investor in electric vehicle manufacturer Tesla Motors, Inc. (later Tesla, Inc.). He became the company's chairman and product architect, assuming the position of CEO in 2008. In 2006, Musk helped create SolarCity, a solar-energy company that was acquired by Tesla in 2016 and became Tesla Energy. In 2013, he proposed a hyperloop high-speed vactrain transportation system. In 2015, he co-founded OpenAI, a nonprofit artificial intelligence research company. The following year, Musk co-founded Neuralink—a neurotechnology company developing brain–computer interfaces—and the Boring Company, a tunnel construction company. In 2018, the U.S. Securities and Exchange Commission (SEC) sued Musk, alleging that he had falsely announced that he had secured funding for a private takeover of Tesla. To settle the case, Musk stepped down as the chairman of Tesla and paid a $20 million fine. In 2022, he acquired Twitter for $44 billion. He subsequently merged the company into newly created X Corp. and rebranded the service as X the following year. In March 2023, Musk founded xAI, an artificial intelligence company.\\nMusk has expressed views that have made him a polarizing figure. He has been criticized for making unscientific and misleading statements, including COVID-19 misinformation and antisemitic conspiracy theories. His ownership of Twitter has been similarly controversial, being marked by layoffs of large numbers of employees, an increase in hate speech and misinformation and disinformation on the website, and changes to Twitter Blue verification.\"],\n",
       "    answer='Here are the companies co-founded by Elon Musk:\\n\\n1. Tesla Motors, Inc. (later Tesla, Inc.) (2004)\\n2. SolarCity (2006)\\n3. OpenAI (2015)\\n4. Neuralink (2015)\\n5. The Boring Company (2015)'\n",
       ")"
      ]
     },
     "execution_count": 15,
     "metadata": {},
     "output_type": "execute_result"
    }
   ],
   "source": [
    "# ada--002 embedding model + llama3 language model\n",
    "lm_llama3 = dspy.OllamaLocal(model='llama3', max_tokens=4000)\n",
    "dspy.settings.configure(lm=lm_llama3, rm=ada_rm)\n",
    "\n",
    "question_org_elon_cofounded = \"List out the companies that Elon Musk co-founded with other founders.\"\n",
    "vanilla_dspy_rag_ada_llama3 = vanilla_dspy_rag()\n",
    "vanilla_dspy_rag_q1 = vanilla_dspy_rag_ada_llama3.forward(question=question_org_elon_cofounded)\n",
    "vanilla_dspy_rag_q1"
   ]
  },
  {
   "cell_type": "code",
   "execution_count": 16,
   "id": "74276b41-6672-4d0b-86a3-009248e2e6e1",
   "metadata": {},
   "outputs": [
    {
     "data": {
      "text/plain": [
       "Prediction(\n",
       "    context=[\"Elon Reeve Musk ( EE-lon; born June 28, 1971) is a businessman and investor. He is the founder, chairman, CEO, and CTO of SpaceX; angel investor, CEO, product architect, and former chairman of Tesla, Inc.; owner, executive chairman, and CTO of X Corp.; founder of the Boring Company and xAI; co-founder of Neuralink and OpenAI; and president of the Musk Foundation. He is one of the wealthiest people in the world; as of April 2024, Forbes estimates his net worth to be $178 billion. \\nA member of the wealthy South African Musk family, Musk was born in Pretoria and briefly attended the University of Pretoria before immigrating to Canada at age 18, acquiring citizenship through his Canadian-born mother. Two years later, he matriculated at Queen's University at Kingston in Canada. Musk later transferred to the University of Pennsylvania and received bachelor's degrees in economics and physics. He moved to California in 1995 to attend Stanford University, but dropped out after two days and, with his brother Kimbal, co-founded online city guide software company Zip2. The startup was acquired by Compaq for $307 million in 1999. That same year, Musk co-founded X.com, a direct bank. X.com merged with Confinity in 2000 to form PayPal. In October 2002, eBay acquired PayPal for $1.5 billion. Using $100 million of the money he made from the sale of PayPal, Musk founded SpaceX, a spaceflight services company, in 2002.\", \"Elon Reeve Musk ( EE-lon; born June 28, 1971) is a businessman and investor. He is the founder, chairman, CEO, and CTO of SpaceX; angel investor, CEO, product architect, and former chairman of Tesla, Inc.; owner, executive chairman, and CTO of X Corp.; founder of the Boring Company and xAI; co-founder of Neuralink and OpenAI; and president of the Musk Foundation. He is one of the wealthiest people in the world; as of April 2024, Forbes estimates his net worth to be $178 billion. \\nA member of the wealthy South African Musk family, Musk was born in Pretoria and briefly attended the University of Pretoria before immigrating to Canada at age 18, acquiring citizenship through his Canadian-born mother. Two years later, he matriculated at Queen's University at Kingston in Canada. Musk later transferred to the University of Pennsylvania and received bachelor's degrees in economics and physics. He moved to California in 1995 to attend Stanford University, but dropped out after two days and, with his brother Kimbal, co-founded online city guide software company Zip2. The startup was acquired by Compaq for $307 million in 1999. That same year, Musk co-founded X.com, a direct bank. X.com merged with Confinity in 2000 to form PayPal. In October 2002, eBay acquired PayPal for $1.5 billion. Using $100 million of the money he made from the sale of PayPal, Musk founded SpaceX, a spaceflight services company, in 2002.\", \"Elon Reeve Musk ( EE-lon; born June 28, 1971) is a businessman and investor. He is the founder, chairman, CEO, and CTO of SpaceX; angel investor, CEO, product architect, and former chairman of Tesla, Inc.; owner, executive chairman, and CTO of X Corp.; founder of the Boring Company and xAI; co-founder of Neuralink and OpenAI; and president of the Musk Foundation. He is one of the wealthiest people in the world; as of April 2024, Forbes estimates his net worth to be $178 billion. \\nA member of the wealthy South African Musk family, Musk was born in Pretoria and briefly attended the University of Pretoria before immigrating to Canada at age 18, acquiring citizenship through his Canadian-born mother. Two years later, he matriculated at Queen's University at Kingston in Canada. Musk later transferred to the University of Pennsylvania and received bachelor's degrees in economics and physics. He moved to California in 1995 to attend Stanford University, but dropped out after two days and, with his brother Kimbal, co-founded online city guide software company Zip2. The startup was acquired by Compaq for $307 million in 1999. That same year, Musk co-founded X.com, a direct bank. X.com merged with Confinity in 2000 to form PayPal. In October 2002, eBay acquired PayPal for $1.5 billion. Using $100 million of the money he made from the sale of PayPal, Musk founded SpaceX, a spaceflight services company, in 2002.\"],\n",
       "    answer='No, Elon Musk did not co-found SpaceX with other founders. He founded it alone in 2002.'\n",
       ")"
      ]
     },
     "execution_count": 16,
     "metadata": {},
     "output_type": "execute_result"
    }
   ],
   "source": [
    "# ada--002 embedding model + llama3 language model\n",
    "question_org_elon_cofounded_1a = \"Did Elon Musk co-found SpaceX with other founders?\"\n",
    "vanilla_dspy_rag_q1a = vanilla_dspy_rag_ada_llama3.forward(question=question_org_elon_cofounded_1a)\n",
    "vanilla_dspy_rag_q1a"
   ]
  },
  {
   "cell_type": "code",
   "execution_count": 17,
   "id": "f0f29ca1-954b-462a-8deb-59aa60a45c33",
   "metadata": {},
   "outputs": [
    {
     "data": {
      "text/plain": [
       "Prediction(\n",
       "    context=[\"Elon Reeve Musk ( EE-lon; born June 28, 1971) is a businessman and investor. He is the founder, chairman, CEO, and CTO of SpaceX; angel investor, CEO, product architect, and former chairman of Tesla, Inc.; owner, executive chairman, and CTO of X Corp.; founder of the Boring Company and xAI; co-founder of Neuralink and OpenAI; and president of the Musk Foundation. He is one of the wealthiest people in the world; as of April 2024, Forbes estimates his net worth to be $178 billion. \\nA member of the wealthy South African Musk family, Musk was born in Pretoria and briefly attended the University of Pretoria before immigrating to Canada at age 18, acquiring citizenship through his Canadian-born mother. Two years later, he matriculated at Queen's University at Kingston in Canada. Musk later transferred to the University of Pennsylvania and received bachelor's degrees in economics and physics. He moved to California in 1995 to attend Stanford University, but dropped out after two days and, with his brother Kimbal, co-founded online city guide software company Zip2. The startup was acquired by Compaq for $307 million in 1999. That same year, Musk co-founded X.com, a direct bank. X.com merged with Confinity in 2000 to form PayPal. In October 2002, eBay acquired PayPal for $1.5 billion. Using $100 million of the money he made from the sale of PayPal, Musk founded SpaceX, a spaceflight services company, in 2002.\", \"Elon Reeve Musk ( EE-lon; born June 28, 1971) is a businessman and investor. He is the founder, chairman, CEO, and CTO of SpaceX; angel investor, CEO, product architect, and former chairman of Tesla, Inc.; owner, executive chairman, and CTO of X Corp.; founder of the Boring Company and xAI; co-founder of Neuralink and OpenAI; and president of the Musk Foundation. He is one of the wealthiest people in the world; as of April 2024, Forbes estimates his net worth to be $178 billion. \\nA member of the wealthy South African Musk family, Musk was born in Pretoria and briefly attended the University of Pretoria before immigrating to Canada at age 18, acquiring citizenship through his Canadian-born mother. Two years later, he matriculated at Queen's University at Kingston in Canada. Musk later transferred to the University of Pennsylvania and received bachelor's degrees in economics and physics. He moved to California in 1995 to attend Stanford University, but dropped out after two days and, with his brother Kimbal, co-founded online city guide software company Zip2. The startup was acquired by Compaq for $307 million in 1999. That same year, Musk co-founded X.com, a direct bank. X.com merged with Confinity in 2000 to form PayPal. In October 2002, eBay acquired PayPal for $1.5 billion. Using $100 million of the money he made from the sale of PayPal, Musk founded SpaceX, a spaceflight services company, in 2002.\", \"Elon Reeve Musk ( EE-lon; born June 28, 1971) is a businessman and investor. He is the founder, chairman, CEO, and CTO of SpaceX; angel investor, CEO, product architect, and former chairman of Tesla, Inc.; owner, executive chairman, and CTO of X Corp.; founder of the Boring Company and xAI; co-founder of Neuralink and OpenAI; and president of the Musk Foundation. He is one of the wealthiest people in the world; as of April 2024, Forbes estimates his net worth to be $178 billion. \\nA member of the wealthy South African Musk family, Musk was born in Pretoria and briefly attended the University of Pretoria before immigrating to Canada at age 18, acquiring citizenship through his Canadian-born mother. Two years later, he matriculated at Queen's University at Kingston in Canada. Musk later transferred to the University of Pennsylvania and received bachelor's degrees in economics and physics. He moved to California in 1995 to attend Stanford University, but dropped out after two days and, with his brother Kimbal, co-founded online city guide software company Zip2. The startup was acquired by Compaq for $307 million in 1999. That same year, Musk co-founded X.com, a direct bank. X.com merged with Confinity in 2000 to form PayPal. In October 2002, eBay acquired PayPal for $1.5 billion. Using $100 million of the money he made from the sale of PayPal, Musk founded SpaceX, a spaceflight services company, in 2002.\"],\n",
       "    answer='None. According to the text, Elon Musk founded SpaceX alone, using $100 million of his money from the sale of PayPal.'\n",
       ")"
      ]
     },
     "execution_count": 17,
     "metadata": {},
     "output_type": "execute_result"
    }
   ],
   "source": [
    "# ada--002 embedding model + llama3 language model\n",
    "question_org_elon_cofounded_1b = \"What are the other founders Elon Musk co-found SpaceX with?\"\n",
    "vanilla_dspy_rag_q1b = vanilla_dspy_rag_ada_llama3.forward(question=question_org_elon_cofounded_1b)\n",
    "vanilla_dspy_rag_q1b"
   ]
  },
  {
   "cell_type": "code",
   "execution_count": 18,
   "id": "41b0768e-ea78-4516-9e61-a3152b36bc0e",
   "metadata": {},
   "outputs": [
    {
     "data": {
      "text/plain": [
       "Prediction(\n",
       "    context=['== History ==\\n\\nMusk announced the idea of the Boring Company in December 2016, and it was officially registered as \"TBC – The Boring Company\" on January 11, 2017. Musk cited difficulty with Los Angeles traffic, and what he sees as limitations of its two-dimensional transportation network, as his early inspiration for the project. The Boring Company was formed as a SpaceX subsidiary. According to Musk, the company\\'s goal is to enhance tunneling speed enough such that establishing a tunnel network is financially feasible. In early 2018, the Boring Company was spun out from SpaceX and into a separate corporate entity. Somewhat less than 10% of equity was given to early employees, and over 90% to Elon Musk. Early employees came from a variety of different backgrounds, including those from SpaceX.\\nThe company began designing its own tunnel boring machines, and completed several tests in Hawthorne, California. The Hawthorne test tunnel opened to the public on December 18, 2018.In July 2019, the Boring Company sold US$120 million in stock to venture capital firms, after raising $113 million in non-outside capital during 2018. By November 2019, Steve Davis had become company president after leading efforts for Musk since 2016. Davis was one of the earliest hires at SpaceX (in 2003) and has twin master\\'s degrees in particle physics and aerospace engineering.In November 2020, TBC announced hiring for positions in Austin, Texas, and by December 2020 had leased two buildings in a 14-acre (5.7 ha) industrial complex northeast of Austin, approximately 16 miles (26 km) north of Texas Gigafactory.On April 20, 2022, the company announced an additional $675 million Series C funding round, valuing the company at approximately $5.675 billion. The round was led by Vy Capital and Sequoia Capital, with participation from Valor Equity Partners, Founders Fund, 8VC, Craft Ventures, and DFJ Growth.\\nIn 2022, the company was cited by the Texas Commission on Environmental Quality for five violations of Texas environmental regulations.Sometime before April 2023, the company moved their headquarters and engineering facilities to Bastrop, Texas.Currently, tunnels connecting different parts of the LVCC are open, and a tunnel to Resorts World started operating in July 2023.', '== History ==\\n\\nMusk announced the idea of the Boring Company in December 2016, and it was officially registered as \"TBC – The Boring Company\" on January 11, 2017. Musk cited difficulty with Los Angeles traffic, and what he sees as limitations of its two-dimensional transportation network, as his early inspiration for the project. The Boring Company was formed as a SpaceX subsidiary. According to Musk, the company\\'s goal is to enhance tunneling speed enough such that establishing a tunnel network is financially feasible. In early 2018, the Boring Company was spun out from SpaceX and into a separate corporate entity. Somewhat less than 10% of equity was given to early employees, and over 90% to Elon Musk. Early employees came from a variety of different backgrounds, including those from SpaceX.\\nThe company began designing its own tunnel boring machines, and completed several tests in Hawthorne, California. The Hawthorne test tunnel opened to the public on December 18, 2018.In July 2019, the Boring Company sold US$120 million in stock to venture capital firms, after raising $113 million in non-outside capital during 2018. By November 2019, Steve Davis had become company president after leading efforts for Musk since 2016. Davis was one of the earliest hires at SpaceX (in 2003) and has twin master\\'s degrees in particle physics and aerospace engineering.In November 2020, TBC announced hiring for positions in Austin, Texas, and by December 2020 had leased two buildings in a 14-acre (5.7 ha) industrial complex northeast of Austin, approximately 16 miles (26 km) north of Texas Gigafactory.On April 20, 2022, the company announced an additional $675 million Series C funding round, valuing the company at approximately $5.675 billion. The round was led by Vy Capital and Sequoia Capital, with participation from Valor Equity Partners, Founders Fund, 8VC, Craft Ventures, and DFJ Growth.\\nIn 2022, the company was cited by the Texas Commission on Environmental Quality for five violations of Texas environmental regulations.Sometime before April 2023, the company moved their headquarters and engineering facilities to Bastrop, Texas.Currently, tunnels connecting different parts of the LVCC are open, and a tunnel to Resorts World started operating in July 2023.', '== History ==\\n\\nMusk announced the idea of the Boring Company in December 2016, and it was officially registered as \"TBC – The Boring Company\" on January 11, 2017. Musk cited difficulty with Los Angeles traffic, and what he sees as limitations of its two-dimensional transportation network, as his early inspiration for the project. The Boring Company was formed as a SpaceX subsidiary. According to Musk, the company\\'s goal is to enhance tunneling speed enough such that establishing a tunnel network is financially feasible. In early 2018, the Boring Company was spun out from SpaceX and into a separate corporate entity. Somewhat less than 10% of equity was given to early employees, and over 90% to Elon Musk. Early employees came from a variety of different backgrounds, including those from SpaceX.\\nThe company began designing its own tunnel boring machines, and completed several tests in Hawthorne, California. The Hawthorne test tunnel opened to the public on December 18, 2018.In July 2019, the Boring Company sold US$120 million in stock to venture capital firms, after raising $113 million in non-outside capital during 2018. By November 2019, Steve Davis had become company president after leading efforts for Musk since 2016. Davis was one of the earliest hires at SpaceX (in 2003) and has twin master\\'s degrees in particle physics and aerospace engineering.In November 2020, TBC announced hiring for positions in Austin, Texas, and by December 2020 had leased two buildings in a 14-acre (5.7 ha) industrial complex northeast of Austin, approximately 16 miles (26 km) north of Texas Gigafactory.On April 20, 2022, the company announced an additional $675 million Series C funding round, valuing the company at approximately $5.675 billion. The round was led by Vy Capital and Sequoia Capital, with participation from Valor Equity Partners, Founders Fund, 8VC, Craft Ventures, and DFJ Growth.\\nIn 2022, the company was cited by the Texas Commission on Environmental Quality for five violations of Texas environmental regulations.Sometime before April 2023, the company moved their headquarters and engineering facilities to Bastrop, Texas.Currently, tunnels connecting different parts of the LVCC are open, and a tunnel to Resorts World started operating in July 2023.'],\n",
       "    answer='No, Elon Musk founded The Boring Company alone.'\n",
       ")"
      ]
     },
     "execution_count": 18,
     "metadata": {},
     "output_type": "execute_result"
    }
   ],
   "source": [
    "# ada--002 embedding model + llama3 language model\n",
    "question_org_elon_cofounded_1c = \"Did Elon co-found The Boring Company with other founders?\"\n",
    "vanilla_dspy_rag_q1c = vanilla_dspy_rag_ada_llama3.forward(question=question_org_elon_cofounded_1c)\n",
    "vanilla_dspy_rag_q1c"
   ]
  },
  {
   "cell_type": "code",
   "execution_count": 19,
   "id": "2a6ee064-600f-478d-a0d3-7fd9227acf16",
   "metadata": {},
   "outputs": [
    {
     "data": {
      "text/plain": [
       "Prediction(\n",
       "    context=['== History ==\\n\\nMusk announced the idea of the Boring Company in December 2016, and it was officially registered as \"TBC – The Boring Company\" on January 11, 2017. Musk cited difficulty with Los Angeles traffic, and what he sees as limitations of its two-dimensional transportation network, as his early inspiration for the project. The Boring Company was formed as a SpaceX subsidiary. According to Musk, the company\\'s goal is to enhance tunneling speed enough such that establishing a tunnel network is financially feasible. In early 2018, the Boring Company was spun out from SpaceX and into a separate corporate entity. Somewhat less than 10% of equity was given to early employees, and over 90% to Elon Musk. Early employees came from a variety of different backgrounds, including those from SpaceX.\\nThe company began designing its own tunnel boring machines, and completed several tests in Hawthorne, California. The Hawthorne test tunnel opened to the public on December 18, 2018.In July 2019, the Boring Company sold US$120 million in stock to venture capital firms, after raising $113 million in non-outside capital during 2018. By November 2019, Steve Davis had become company president after leading efforts for Musk since 2016. Davis was one of the earliest hires at SpaceX (in 2003) and has twin master\\'s degrees in particle physics and aerospace engineering.In November 2020, TBC announced hiring for positions in Austin, Texas, and by December 2020 had leased two buildings in a 14-acre (5.7 ha) industrial complex northeast of Austin, approximately 16 miles (26 km) north of Texas Gigafactory.On April 20, 2022, the company announced an additional $675 million Series C funding round, valuing the company at approximately $5.675 billion. The round was led by Vy Capital and Sequoia Capital, with participation from Valor Equity Partners, Founders Fund, 8VC, Craft Ventures, and DFJ Growth.\\nIn 2022, the company was cited by the Texas Commission on Environmental Quality for five violations of Texas environmental regulations.Sometime before April 2023, the company moved their headquarters and engineering facilities to Bastrop, Texas.Currently, tunnels connecting different parts of the LVCC are open, and a tunnel to Resorts World started operating in July 2023.', '== History ==\\n\\nMusk announced the idea of the Boring Company in December 2016, and it was officially registered as \"TBC – The Boring Company\" on January 11, 2017. Musk cited difficulty with Los Angeles traffic, and what he sees as limitations of its two-dimensional transportation network, as his early inspiration for the project. The Boring Company was formed as a SpaceX subsidiary. According to Musk, the company\\'s goal is to enhance tunneling speed enough such that establishing a tunnel network is financially feasible. In early 2018, the Boring Company was spun out from SpaceX and into a separate corporate entity. Somewhat less than 10% of equity was given to early employees, and over 90% to Elon Musk. Early employees came from a variety of different backgrounds, including those from SpaceX.\\nThe company began designing its own tunnel boring machines, and completed several tests in Hawthorne, California. The Hawthorne test tunnel opened to the public on December 18, 2018.In July 2019, the Boring Company sold US$120 million in stock to venture capital firms, after raising $113 million in non-outside capital during 2018. By November 2019, Steve Davis had become company president after leading efforts for Musk since 2016. Davis was one of the earliest hires at SpaceX (in 2003) and has twin master\\'s degrees in particle physics and aerospace engineering.In November 2020, TBC announced hiring for positions in Austin, Texas, and by December 2020 had leased two buildings in a 14-acre (5.7 ha) industrial complex northeast of Austin, approximately 16 miles (26 km) north of Texas Gigafactory.On April 20, 2022, the company announced an additional $675 million Series C funding round, valuing the company at approximately $5.675 billion. The round was led by Vy Capital and Sequoia Capital, with participation from Valor Equity Partners, Founders Fund, 8VC, Craft Ventures, and DFJ Growth.\\nIn 2022, the company was cited by the Texas Commission on Environmental Quality for five violations of Texas environmental regulations.Sometime before April 2023, the company moved their headquarters and engineering facilities to Bastrop, Texas.Currently, tunnels connecting different parts of the LVCC are open, and a tunnel to Resorts World started operating in July 2023.', '== History ==\\n\\nMusk announced the idea of the Boring Company in December 2016, and it was officially registered as \"TBC – The Boring Company\" on January 11, 2017. Musk cited difficulty with Los Angeles traffic, and what he sees as limitations of its two-dimensional transportation network, as his early inspiration for the project. The Boring Company was formed as a SpaceX subsidiary. According to Musk, the company\\'s goal is to enhance tunneling speed enough such that establishing a tunnel network is financially feasible. In early 2018, the Boring Company was spun out from SpaceX and into a separate corporate entity. Somewhat less than 10% of equity was given to early employees, and over 90% to Elon Musk. Early employees came from a variety of different backgrounds, including those from SpaceX.\\nThe company began designing its own tunnel boring machines, and completed several tests in Hawthorne, California. The Hawthorne test tunnel opened to the public on December 18, 2018.In July 2019, the Boring Company sold US$120 million in stock to venture capital firms, after raising $113 million in non-outside capital during 2018. By November 2019, Steve Davis had become company president after leading efforts for Musk since 2016. Davis was one of the earliest hires at SpaceX (in 2003) and has twin master\\'s degrees in particle physics and aerospace engineering.In November 2020, TBC announced hiring for positions in Austin, Texas, and by December 2020 had leased two buildings in a 14-acre (5.7 ha) industrial complex northeast of Austin, approximately 16 miles (26 km) north of Texas Gigafactory.On April 20, 2022, the company announced an additional $675 million Series C funding round, valuing the company at approximately $5.675 billion. The round was led by Vy Capital and Sequoia Capital, with participation from Valor Equity Partners, Founders Fund, 8VC, Craft Ventures, and DFJ Growth.\\nIn 2022, the company was cited by the Texas Commission on Environmental Quality for five violations of Texas environmental regulations.Sometime before April 2023, the company moved their headquarters and engineering facilities to Bastrop, Texas.Currently, tunnels connecting different parts of the LVCC are open, and a tunnel to Resorts World started operating in July 2023.'],\n",
       "    answer='No. According to the text, The Boring Company was formed as a SpaceX subsidiary, not co-founded with other founders.'\n",
       ")"
      ]
     },
     "execution_count": 19,
     "metadata": {},
     "output_type": "execute_result"
    }
   ],
   "source": [
    "# ada--002 embedding model + llama3 language model\n",
    "question_org_elon_cofounded_1d = \"Is The Boring Company one of the companies Elon co-founded with other founders?\"\n",
    "vanilla_dspy_rag_q1d = vanilla_dspy_rag_ada_llama3.forward(question=question_org_elon_cofounded_1d)\n",
    "vanilla_dspy_rag_q1d"
   ]
  },
  {
   "cell_type": "code",
   "execution_count": 20,
   "id": "7180a92a-5176-42af-9b22-f101e2fbf2ff",
   "metadata": {},
   "outputs": [
    {
     "data": {
      "text/plain": [
       "Prediction(\n",
       "    context=[\"In 2004, Musk became an early investor in electric vehicle manufacturer Tesla Motors, Inc. (later Tesla, Inc.). He became the company's chairman and product architect, assuming the position of CEO in 2008. In 2006, Musk helped create SolarCity, a solar-energy company that was acquired by Tesla in 2016 and became Tesla Energy. In 2013, he proposed a hyperloop high-speed vactrain transportation system. In 2015, he co-founded OpenAI, a nonprofit artificial intelligence research company. The following year, Musk co-founded Neuralink—a neurotechnology company developing brain–computer interfaces—and the Boring Company, a tunnel construction company. In 2018, the U.S. Securities and Exchange Commission (SEC) sued Musk, alleging that he had falsely announced that he had secured funding for a private takeover of Tesla. To settle the case, Musk stepped down as the chairman of Tesla and paid a $20 million fine. In 2022, he acquired Twitter for $44 billion. He subsequently merged the company into newly created X Corp. and rebranded the service as X the following year. In March 2023, Musk founded xAI, an artificial intelligence company.\\nMusk has expressed views that have made him a polarizing figure. He has been criticized for making unscientific and misleading statements, including COVID-19 misinformation and antisemitic conspiracy theories. His ownership of Twitter has been similarly controversial, being marked by layoffs of large numbers of employees, an increase in hate speech and misinformation and disinformation on the website, and changes to Twitter Blue verification.\", \"In 2004, Musk became an early investor in electric vehicle manufacturer Tesla Motors, Inc. (later Tesla, Inc.). He became the company's chairman and product architect, assuming the position of CEO in 2008. In 2006, Musk helped create SolarCity, a solar-energy company that was acquired by Tesla in 2016 and became Tesla Energy. In 2013, he proposed a hyperloop high-speed vactrain transportation system. In 2015, he co-founded OpenAI, a nonprofit artificial intelligence research company. The following year, Musk co-founded Neuralink—a neurotechnology company developing brain–computer interfaces—and the Boring Company, a tunnel construction company. In 2018, the U.S. Securities and Exchange Commission (SEC) sued Musk, alleging that he had falsely announced that he had secured funding for a private takeover of Tesla. To settle the case, Musk stepped down as the chairman of Tesla and paid a $20 million fine. In 2022, he acquired Twitter for $44 billion. He subsequently merged the company into newly created X Corp. and rebranded the service as X the following year. In March 2023, Musk founded xAI, an artificial intelligence company.\\nMusk has expressed views that have made him a polarizing figure. He has been criticized for making unscientific and misleading statements, including COVID-19 misinformation and antisemitic conspiracy theories. His ownership of Twitter has been similarly controversial, being marked by layoffs of large numbers of employees, an increase in hate speech and misinformation and disinformation on the website, and changes to Twitter Blue verification.\", \"In 2004, Musk became an early investor in electric vehicle manufacturer Tesla Motors, Inc. (later Tesla, Inc.). He became the company's chairman and product architect, assuming the position of CEO in 2008. In 2006, Musk helped create SolarCity, a solar-energy company that was acquired by Tesla in 2016 and became Tesla Energy. In 2013, he proposed a hyperloop high-speed vactrain transportation system. In 2015, he co-founded OpenAI, a nonprofit artificial intelligence research company. The following year, Musk co-founded Neuralink—a neurotechnology company developing brain–computer interfaces—and the Boring Company, a tunnel construction company. In 2018, the U.S. Securities and Exchange Commission (SEC) sued Musk, alleging that he had falsely announced that he had secured funding for a private takeover of Tesla. To settle the case, Musk stepped down as the chairman of Tesla and paid a $20 million fine. In 2022, he acquired Twitter for $44 billion. He subsequently merged the company into newly created X Corp. and rebranded the service as X the following year. In March 2023, Musk founded xAI, an artificial intelligence company.\\nMusk has expressed views that have made him a polarizing figure. He has been criticized for making unscientific and misleading statements, including COVID-19 misinformation and antisemitic conspiracy theories. His ownership of Twitter has been similarly controversial, being marked by layoffs of large numbers of employees, an increase in hate speech and misinformation and disinformation on the website, and changes to Twitter Blue verification.\"],\n",
       "    answer='Here are the companies co-founded by Elon Musk:\\n\\n1. Tesla Motors, Inc. (later Tesla, Inc.) (2004)\\n2. SolarCity (2006)\\n3. OpenAI (2015)\\n4. Neuralink (2015)\\n5. The Boring Company (2015)'\n",
       ")"
      ]
     },
     "execution_count": 20,
     "metadata": {},
     "output_type": "execute_result"
    }
   ],
   "source": [
    "# ada--002 embedding model + llama3 language model\n",
    "question_org_elon_cofounded_1e = \"List out the companies that Elon Musk co-founded with other founders.\"\n",
    "vanilla_dspy_rag_q1e = vanilla_dspy_rag_ada_llama3.forward(question=question_org_elon_cofounded_1e)\n",
    "vanilla_dspy_rag_q1e"
   ]
  },
  {
   "cell_type": "code",
   "execution_count": null,
   "id": "cce1d7ff-148b-4373-9207-d05d526fb466",
   "metadata": {},
   "outputs": [],
   "source": [
    "lm_llama3.inspect_history(15)"
   ]
  },
  {
   "cell_type": "markdown",
   "id": "538bf65d-c674-4af2-8ea9-aa78793efec7",
   "metadata": {},
   "source": [
    "# Vanilla DSPy RAG - nomic embedding + gpt3.5-instruct"
   ]
  },
  {
   "cell_type": "code",
   "execution_count": 21,
   "id": "fd4f7757-978c-473c-8f2b-438a2950f31a",
   "metadata": {},
   "outputs": [
    {
     "data": {
      "text/plain": [
       "Prediction(\n",
       "    context=[\"Elon Reeve Musk ( EE-lon; born June 28, 1971) is a businessman and investor. He is the founder, chairman, CEO, and CTO of SpaceX; angel investor, CEO, product architect, and former chairman of Tesla, Inc.; owner, executive chairman, and CTO of X Corp.; founder of the Boring Company and xAI; co-founder of Neuralink and OpenAI; and president of the Musk Foundation. He is one of the wealthiest people in the world; as of April 2024, Forbes estimates his net worth to be $178 billion. \\nA member of the wealthy South African Musk family, Musk was born in Pretoria and briefly attended the University of Pretoria before immigrating to Canada at age 18, acquiring citizenship through his Canadian-born mother. Two years later, he matriculated at Queen's University at Kingston in Canada. Musk later transferred to the University of Pennsylvania and received bachelor's degrees in economics and physics. He moved to California in 1995 to attend Stanford University, but dropped out after two days and, with his brother Kimbal, co-founded online city guide software company Zip2. The startup was acquired by Compaq for $307 million in 1999. That same year, Musk co-founded X.com, a direct bank. X.com merged with Confinity in 2000 to form PayPal. In October 2002, eBay acquired PayPal for $1.5 billion. Using $100 million of the money he made from the sale of PayPal, Musk founded SpaceX, a spaceflight services company, in 2002.\", \"Elon Reeve Musk ( EE-lon; born June 28, 1971) is a businessman and investor. He is the founder, chairman, CEO, and CTO of SpaceX; angel investor, CEO, product architect, and former chairman of Tesla, Inc.; owner, executive chairman, and CTO of X Corp.; founder of the Boring Company and xAI; co-founder of Neuralink and OpenAI; and president of the Musk Foundation. He is one of the wealthiest people in the world; as of April 2024, Forbes estimates his net worth to be $178 billion. \\nA member of the wealthy South African Musk family, Musk was born in Pretoria and briefly attended the University of Pretoria before immigrating to Canada at age 18, acquiring citizenship through his Canadian-born mother. Two years later, he matriculated at Queen's University at Kingston in Canada. Musk later transferred to the University of Pennsylvania and received bachelor's degrees in economics and physics. He moved to California in 1995 to attend Stanford University, but dropped out after two days and, with his brother Kimbal, co-founded online city guide software company Zip2. The startup was acquired by Compaq for $307 million in 1999. That same year, Musk co-founded X.com, a direct bank. X.com merged with Confinity in 2000 to form PayPal. In October 2002, eBay acquired PayPal for $1.5 billion. Using $100 million of the money he made from the sale of PayPal, Musk founded SpaceX, a spaceflight services company, in 2002.\", \"Elon Reeve Musk ( EE-lon; born June 28, 1971) is a businessman and investor. He is the founder, chairman, CEO, and CTO of SpaceX; angel investor, CEO, product architect, and former chairman of Tesla, Inc.; owner, executive chairman, and CTO of X Corp.; founder of the Boring Company and xAI; co-founder of Neuralink and OpenAI; and president of the Musk Foundation. He is one of the wealthiest people in the world; as of April 2024, Forbes estimates his net worth to be $178 billion. \\nA member of the wealthy South African Musk family, Musk was born in Pretoria and briefly attended the University of Pretoria before immigrating to Canada at age 18, acquiring citizenship through his Canadian-born mother. Two years later, he matriculated at Queen's University at Kingston in Canada. Musk later transferred to the University of Pennsylvania and received bachelor's degrees in economics and physics. He moved to California in 1995 to attend Stanford University, but dropped out after two days and, with his brother Kimbal, co-founded online city guide software company Zip2. The startup was acquired by Compaq for $307 million in 1999. That same year, Musk co-founded X.com, a direct bank. X.com merged with Confinity in 2000 to form PayPal. In October 2002, eBay acquired PayPal for $1.5 billion. Using $100 million of the money he made from the sale of PayPal, Musk founded SpaceX, a spaceflight services company, in 2002.\"],\n",
       "    answer='Zip2, X.com, Neuralink, OpenAI, The Boring Company, xAI'\n",
       ")"
      ]
     },
     "execution_count": 21,
     "metadata": {},
     "output_type": "execute_result"
    }
   ],
   "source": [
    "# nomic embedding + gpt3.5-instruct\n",
    "lm_gpt35 = dspy.OpenAI(model='gpt-3.5-turbo-instruct')\n",
    "dspy.settings.configure(lm=lm_gpt35, rm=nomic_rm)\n",
    "\n",
    "question_org_elon_cofounded = \"List out the companies that Elon Musk co-founded with other founders.\"\n",
    "vanilla_dspy_rag_nomic_gpt35 = vanilla_dspy_rag()\n",
    "vanilla_dspy_rag_q1 = vanilla_dspy_rag_nomic_gpt35.forward(question=question_org_elon_cofounded)\n",
    "vanilla_dspy_rag_q1"
   ]
  },
  {
   "cell_type": "code",
   "execution_count": 22,
   "id": "175fa813-855c-4ff5-9de7-b4785fa84278",
   "metadata": {},
   "outputs": [
    {
     "data": {
      "text/plain": [
       "Prediction(\n",
       "    context=[\"== Notable members ==\\nMaye Musk (née Haldeman; born 1948), model and dietitian. She has appeared on the cover of several magazines, including a Time magazine health edition, Women's Day, and Vogue; Elon's mother.\\nElon Musk (born 1971), entrepreneur and business magnate. Variously CEO, CTO, and/or Chairman of SpaceX, Tesla, X Corp., and Neuralink. He was Time Magazine's 2021 Person of the Year.\\nKimbal Musk (born 1972), entrepreneur, philanthropist, and restaurateur. He founded Zip2 in 1998 with his brother Elon and later sold it to Compaq for $307 million. He is the co-founder and chairman of Big Green.\\nTosca Musk (born 1974), filmmaker and sister of Elon; she is the co-founder of Passionflix, an OTT entertainment streaming platform and production company.\\nLyndon Rive (born 1977), businessman who co-founded SolarCity and served as its CEO until 2017. He is Elon's cousin through his mother Kaye Rive, Maye Musk's twin.\\n\\n\\n== References ==\", \"== Notable members ==\\nMaye Musk (née Haldeman; born 1948), model and dietitian. She has appeared on the cover of several magazines, including a Time magazine health edition, Women's Day, and Vogue; Elon's mother.\\nElon Musk (born 1971), entrepreneur and business magnate. Variously CEO, CTO, and/or Chairman of SpaceX, Tesla, X Corp., and Neuralink. He was Time Magazine's 2021 Person of the Year.\\nKimbal Musk (born 1972), entrepreneur, philanthropist, and restaurateur. He founded Zip2 in 1998 with his brother Elon and later sold it to Compaq for $307 million. He is the co-founder and chairman of Big Green.\\nTosca Musk (born 1974), filmmaker and sister of Elon; she is the co-founder of Passionflix, an OTT entertainment streaming platform and production company.\\nLyndon Rive (born 1977), businessman who co-founded SolarCity and served as its CEO until 2017. He is Elon's cousin through his mother Kaye Rive, Maye Musk's twin.\\n\\n\\n== References ==\", \"== Notable members ==\\nMaye Musk (née Haldeman; born 1948), model and dietitian. She has appeared on the cover of several magazines, including a Time magazine health edition, Women's Day, and Vogue; Elon's mother.\\nElon Musk (born 1971), entrepreneur and business magnate. Variously CEO, CTO, and/or Chairman of SpaceX, Tesla, X Corp., and Neuralink. He was Time Magazine's 2021 Person of the Year.\\nKimbal Musk (born 1972), entrepreneur, philanthropist, and restaurateur. He founded Zip2 in 1998 with his brother Elon and later sold it to Compaq for $307 million. He is the co-founder and chairman of Big Green.\\nTosca Musk (born 1974), filmmaker and sister of Elon; she is the co-founder of Passionflix, an OTT entertainment streaming platform and production company.\\nLyndon Rive (born 1977), businessman who co-founded SolarCity and served as its CEO until 2017. He is Elon's cousin through his mother Kaye Rive, Maye Musk's twin.\\n\\n\\n== References ==\"],\n",
       "    answer='Yes'\n",
       ")"
      ]
     },
     "execution_count": 22,
     "metadata": {},
     "output_type": "execute_result"
    }
   ],
   "source": [
    "# nomic embedding + gpt3.5-instruct\n",
    "question_org_elon_cofounded_1a = \"Did Elon Musk co-found SpaceX with other founders?\"\n",
    "vanilla_dspy_rag_q1a = vanilla_dspy_rag_nomic_gpt35.forward(question=question_org_elon_cofounded_1a)\n",
    "vanilla_dspy_rag_q1a"
   ]
  },
  {
   "cell_type": "code",
   "execution_count": 18,
   "id": "c7d0b331-d3cd-463e-b3b8-dcaebd87ccd8",
   "metadata": {},
   "outputs": [
    {
     "data": {
      "text/plain": [
       "Prediction(\n",
       "    context=[\"== Notable members ==\\nMaye Musk (née Haldeman; born 1948), model and dietitian. She has appeared on the cover of several magazines, including a Time magazine health edition, Women's Day, and Vogue; Elon's mother.\\nElon Musk (born 1971), entrepreneur and business magnate. Variously CEO, CTO, and/or Chairman of SpaceX, Tesla, X Corp., and Neuralink. He was Time Magazine's 2021 Person of the Year.\\nKimbal Musk (born 1972), entrepreneur, philanthropist, and restaurateur. He founded Zip2 in 1998 with his brother Elon and later sold it to Compaq for $307 million. He is the co-founder and chairman of Big Green.\\nTosca Musk (born 1974), filmmaker and sister of Elon; she is the co-founder of Passionflix, an OTT entertainment streaming platform and production company.\\nLyndon Rive (born 1977), businessman who co-founded SolarCity and served as its CEO until 2017. He is Elon's cousin through his mother Kaye Rive, Maye Musk's twin.\\n\\n\\n== References ==\", \"== Notable members ==\\nMaye Musk (née Haldeman; born 1948), model and dietitian. She has appeared on the cover of several magazines, including a Time magazine health edition, Women's Day, and Vogue; Elon's mother.\\nElon Musk (born 1971), entrepreneur and business magnate. Variously CEO, CTO, and/or Chairman of SpaceX, Tesla, X Corp., and Neuralink. He was Time Magazine's 2021 Person of the Year.\\nKimbal Musk (born 1972), entrepreneur, philanthropist, and restaurateur. He founded Zip2 in 1998 with his brother Elon and later sold it to Compaq for $307 million. He is the co-founder and chairman of Big Green.\\nTosca Musk (born 1974), filmmaker and sister of Elon; she is the co-founder of Passionflix, an OTT entertainment streaming platform and production company.\\nLyndon Rive (born 1977), businessman who co-founded SolarCity and served as its CEO until 2017. He is Elon's cousin through his mother Kaye Rive, Maye Musk's twin.\\n\\n\\n== References ==\", \"== Notable members ==\\nMaye Musk (née Haldeman; born 1948), model and dietitian. She has appeared on the cover of several magazines, including a Time magazine health edition, Women's Day, and Vogue; Elon's mother.\\nElon Musk (born 1971), entrepreneur and business magnate. Variously CEO, CTO, and/or Chairman of SpaceX, Tesla, X Corp., and Neuralink. He was Time Magazine's 2021 Person of the Year.\\nKimbal Musk (born 1972), entrepreneur, philanthropist, and restaurateur. He founded Zip2 in 1998 with his brother Elon and later sold it to Compaq for $307 million. He is the co-founder and chairman of Big Green.\\nTosca Musk (born 1974), filmmaker and sister of Elon; she is the co-founder of Passionflix, an OTT entertainment streaming platform and production company.\\nLyndon Rive (born 1977), businessman who co-founded SolarCity and served as its CEO until 2017. He is Elon's cousin through his mother Kaye Rive, Maye Musk's twin.\\n\\n\\n== References ==\"],\n",
       "    answer='Kimbal Musk'\n",
       ")"
      ]
     },
     "execution_count": 18,
     "metadata": {},
     "output_type": "execute_result"
    }
   ],
   "source": [
    "# nomic embedding + gpt3.5-instruct\n",
    "question_org_elon_cofounded_1b = \"What are the other founders Elon Musk co-founded SpaceX with?\"\n",
    "vanilla_dspy_rag_q1b = vanilla_dspy_rag_nomic_gpt35.forward(question=question_org_elon_cofounded_1b)\n",
    "vanilla_dspy_rag_q1b"
   ]
  },
  {
   "cell_type": "code",
   "execution_count": 24,
   "id": "7f45b6af-f491-4c8a-8aa1-a59e0105765a",
   "metadata": {},
   "outputs": [
    {
     "data": {
      "text/plain": [
       "Prediction(\n",
       "    context=[\"== Notable members ==\\nMaye Musk (née Haldeman; born 1948), model and dietitian. She has appeared on the cover of several magazines, including a Time magazine health edition, Women's Day, and Vogue; Elon's mother.\\nElon Musk (born 1971), entrepreneur and business magnate. Variously CEO, CTO, and/or Chairman of SpaceX, Tesla, X Corp., and Neuralink. He was Time Magazine's 2021 Person of the Year.\\nKimbal Musk (born 1972), entrepreneur, philanthropist, and restaurateur. He founded Zip2 in 1998 with his brother Elon and later sold it to Compaq for $307 million. He is the co-founder and chairman of Big Green.\\nTosca Musk (born 1974), filmmaker and sister of Elon; she is the co-founder of Passionflix, an OTT entertainment streaming platform and production company.\\nLyndon Rive (born 1977), businessman who co-founded SolarCity and served as its CEO until 2017. He is Elon's cousin through his mother Kaye Rive, Maye Musk's twin.\\n\\n\\n== References ==\", \"== Notable members ==\\nMaye Musk (née Haldeman; born 1948), model and dietitian. She has appeared on the cover of several magazines, including a Time magazine health edition, Women's Day, and Vogue; Elon's mother.\\nElon Musk (born 1971), entrepreneur and business magnate. Variously CEO, CTO, and/or Chairman of SpaceX, Tesla, X Corp., and Neuralink. He was Time Magazine's 2021 Person of the Year.\\nKimbal Musk (born 1972), entrepreneur, philanthropist, and restaurateur. He founded Zip2 in 1998 with his brother Elon and later sold it to Compaq for $307 million. He is the co-founder and chairman of Big Green.\\nTosca Musk (born 1974), filmmaker and sister of Elon; she is the co-founder of Passionflix, an OTT entertainment streaming platform and production company.\\nLyndon Rive (born 1977), businessman who co-founded SolarCity and served as its CEO until 2017. He is Elon's cousin through his mother Kaye Rive, Maye Musk's twin.\\n\\n\\n== References ==\", \"== Notable members ==\\nMaye Musk (née Haldeman; born 1948), model and dietitian. She has appeared on the cover of several magazines, including a Time magazine health edition, Women's Day, and Vogue; Elon's mother.\\nElon Musk (born 1971), entrepreneur and business magnate. Variously CEO, CTO, and/or Chairman of SpaceX, Tesla, X Corp., and Neuralink. He was Time Magazine's 2021 Person of the Year.\\nKimbal Musk (born 1972), entrepreneur, philanthropist, and restaurateur. He founded Zip2 in 1998 with his brother Elon and later sold it to Compaq for $307 million. He is the co-founder and chairman of Big Green.\\nTosca Musk (born 1974), filmmaker and sister of Elon; she is the co-founder of Passionflix, an OTT entertainment streaming platform and production company.\\nLyndon Rive (born 1977), businessman who co-founded SolarCity and served as its CEO until 2017. He is Elon's cousin through his mother Kaye Rive, Maye Musk's twin.\\n\\n\\n== References ==\"],\n",
       "    answer='Yes'\n",
       ")"
      ]
     },
     "execution_count": 24,
     "metadata": {},
     "output_type": "execute_result"
    }
   ],
   "source": [
    "# nomic embeddings + gpt3.5-instruct\n",
    "question_org_elon_cofounded_1c = \"Did Elon co-found The Boring Company with other people?\"\n",
    "vanilla_dspy_rag_q1c = vanilla_dspy_rag_nomic_gpt35.forward(question=question_org_elon_cofounded_1c)\n",
    "vanilla_dspy_rag_q1c"
   ]
  },
  {
   "cell_type": "code",
   "execution_count": 26,
   "id": "c537b9df-f831-4c97-92b9-5f223f25917c",
   "metadata": {},
   "outputs": [
    {
     "data": {
      "text/plain": [
       "Prediction(\n",
       "    context=[\"== Notable members ==\\nMaye Musk (née Haldeman; born 1948), model and dietitian. She has appeared on the cover of several magazines, including a Time magazine health edition, Women's Day, and Vogue; Elon's mother.\\nElon Musk (born 1971), entrepreneur and business magnate. Variously CEO, CTO, and/or Chairman of SpaceX, Tesla, X Corp., and Neuralink. He was Time Magazine's 2021 Person of the Year.\\nKimbal Musk (born 1972), entrepreneur, philanthropist, and restaurateur. He founded Zip2 in 1998 with his brother Elon and later sold it to Compaq for $307 million. He is the co-founder and chairman of Big Green.\\nTosca Musk (born 1974), filmmaker and sister of Elon; she is the co-founder of Passionflix, an OTT entertainment streaming platform and production company.\\nLyndon Rive (born 1977), businessman who co-founded SolarCity and served as its CEO until 2017. He is Elon's cousin through his mother Kaye Rive, Maye Musk's twin.\\n\\n\\n== References ==\", \"== Notable members ==\\nMaye Musk (née Haldeman; born 1948), model and dietitian. She has appeared on the cover of several magazines, including a Time magazine health edition, Women's Day, and Vogue; Elon's mother.\\nElon Musk (born 1971), entrepreneur and business magnate. Variously CEO, CTO, and/or Chairman of SpaceX, Tesla, X Corp., and Neuralink. He was Time Magazine's 2021 Person of the Year.\\nKimbal Musk (born 1972), entrepreneur, philanthropist, and restaurateur. He founded Zip2 in 1998 with his brother Elon and later sold it to Compaq for $307 million. He is the co-founder and chairman of Big Green.\\nTosca Musk (born 1974), filmmaker and sister of Elon; she is the co-founder of Passionflix, an OTT entertainment streaming platform and production company.\\nLyndon Rive (born 1977), businessman who co-founded SolarCity and served as its CEO until 2017. He is Elon's cousin through his mother Kaye Rive, Maye Musk's twin.\\n\\n\\n== References ==\", \"== Notable members ==\\nMaye Musk (née Haldeman; born 1948), model and dietitian. She has appeared on the cover of several magazines, including a Time magazine health edition, Women's Day, and Vogue; Elon's mother.\\nElon Musk (born 1971), entrepreneur and business magnate. Variously CEO, CTO, and/or Chairman of SpaceX, Tesla, X Corp., and Neuralink. He was Time Magazine's 2021 Person of the Year.\\nKimbal Musk (born 1972), entrepreneur, philanthropist, and restaurateur. He founded Zip2 in 1998 with his brother Elon and later sold it to Compaq for $307 million. He is the co-founder and chairman of Big Green.\\nTosca Musk (born 1974), filmmaker and sister of Elon; she is the co-founder of Passionflix, an OTT entertainment streaming platform and production company.\\nLyndon Rive (born 1977), businessman who co-founded SolarCity and served as its CEO until 2017. He is Elon's cousin through his mother Kaye Rive, Maye Musk's twin.\\n\\n\\n== References ==\"],\n",
       "    answer='Yes'\n",
       ")"
      ]
     },
     "execution_count": 26,
     "metadata": {},
     "output_type": "execute_result"
    }
   ],
   "source": [
    "# nomic embeddings + gpt3.5-instruct\n",
    "question_org_elon_cofounded_1d = \"Is The Boring Company one of the companies Elon co-founded with other founders?\"\n",
    "vanilla_dspy_rag_q1d = vanilla_dspy_rag_nomic_gpt35.forward(question=question_org_elon_cofounded_1d)\n",
    "vanilla_dspy_rag_q1d"
   ]
  },
  {
   "cell_type": "code",
   "execution_count": 27,
   "id": "943218f8-1cf5-4679-8b00-80b42e95343b",
   "metadata": {},
   "outputs": [
    {
     "data": {
      "text/plain": [
       "Prediction(\n",
       "    context=[\"Elon Reeve Musk ( EE-lon; born June 28, 1971) is a businessman and investor. He is the founder, chairman, CEO, and CTO of SpaceX; angel investor, CEO, product architect, and former chairman of Tesla, Inc.; owner, executive chairman, and CTO of X Corp.; founder of the Boring Company and xAI; co-founder of Neuralink and OpenAI; and president of the Musk Foundation. He is one of the wealthiest people in the world; as of April 2024, Forbes estimates his net worth to be $178 billion. \\nA member of the wealthy South African Musk family, Musk was born in Pretoria and briefly attended the University of Pretoria before immigrating to Canada at age 18, acquiring citizenship through his Canadian-born mother. Two years later, he matriculated at Queen's University at Kingston in Canada. Musk later transferred to the University of Pennsylvania and received bachelor's degrees in economics and physics. He moved to California in 1995 to attend Stanford University, but dropped out after two days and, with his brother Kimbal, co-founded online city guide software company Zip2. The startup was acquired by Compaq for $307 million in 1999. That same year, Musk co-founded X.com, a direct bank. X.com merged with Confinity in 2000 to form PayPal. In October 2002, eBay acquired PayPal for $1.5 billion. Using $100 million of the money he made from the sale of PayPal, Musk founded SpaceX, a spaceflight services company, in 2002.\", \"Elon Reeve Musk ( EE-lon; born June 28, 1971) is a businessman and investor. He is the founder, chairman, CEO, and CTO of SpaceX; angel investor, CEO, product architect, and former chairman of Tesla, Inc.; owner, executive chairman, and CTO of X Corp.; founder of the Boring Company and xAI; co-founder of Neuralink and OpenAI; and president of the Musk Foundation. He is one of the wealthiest people in the world; as of April 2024, Forbes estimates his net worth to be $178 billion. \\nA member of the wealthy South African Musk family, Musk was born in Pretoria and briefly attended the University of Pretoria before immigrating to Canada at age 18, acquiring citizenship through his Canadian-born mother. Two years later, he matriculated at Queen's University at Kingston in Canada. Musk later transferred to the University of Pennsylvania and received bachelor's degrees in economics and physics. He moved to California in 1995 to attend Stanford University, but dropped out after two days and, with his brother Kimbal, co-founded online city guide software company Zip2. The startup was acquired by Compaq for $307 million in 1999. That same year, Musk co-founded X.com, a direct bank. X.com merged with Confinity in 2000 to form PayPal. In October 2002, eBay acquired PayPal for $1.5 billion. Using $100 million of the money he made from the sale of PayPal, Musk founded SpaceX, a spaceflight services company, in 2002.\", \"Elon Reeve Musk ( EE-lon; born June 28, 1971) is a businessman and investor. He is the founder, chairman, CEO, and CTO of SpaceX; angel investor, CEO, product architect, and former chairman of Tesla, Inc.; owner, executive chairman, and CTO of X Corp.; founder of the Boring Company and xAI; co-founder of Neuralink and OpenAI; and president of the Musk Foundation. He is one of the wealthiest people in the world; as of April 2024, Forbes estimates his net worth to be $178 billion. \\nA member of the wealthy South African Musk family, Musk was born in Pretoria and briefly attended the University of Pretoria before immigrating to Canada at age 18, acquiring citizenship through his Canadian-born mother. Two years later, he matriculated at Queen's University at Kingston in Canada. Musk later transferred to the University of Pennsylvania and received bachelor's degrees in economics and physics. He moved to California in 1995 to attend Stanford University, but dropped out after two days and, with his brother Kimbal, co-founded online city guide software company Zip2. The startup was acquired by Compaq for $307 million in 1999. That same year, Musk co-founded X.com, a direct bank. X.com merged with Confinity in 2000 to form PayPal. In October 2002, eBay acquired PayPal for $1.5 billion. Using $100 million of the money he made from the sale of PayPal, Musk founded SpaceX, a spaceflight services company, in 2002.\"],\n",
       "    answer='Zip2, X.com, Neuralink, OpenAI, The Boring Company, xAI'\n",
       ")"
      ]
     },
     "execution_count": 27,
     "metadata": {},
     "output_type": "execute_result"
    }
   ],
   "source": [
    "# nomic embeddings + gpt3.5-instruct\n",
    "question_org_elon_cofounded_1e = \"List out the companies that Elon Musk co-founded with other founders.\"\n",
    "vanilla_dspy_rag_q1e = vanilla_dspy_rag_nomic_gpt35.forward(question=question_org_elon_cofounded_1e)\n",
    "vanilla_dspy_rag_q1e"
   ]
  },
  {
   "cell_type": "markdown",
   "id": "9c2fd0db-204b-4eb3-a643-b1ae4168ecb9",
   "metadata": {},
   "source": [
    "# Vanilla DSPy RAG - nomic embedding + llama3"
   ]
  },
  {
   "cell_type": "code",
   "execution_count": 28,
   "id": "32cc56e6-2b48-495a-8923-870d6099eb41",
   "metadata": {},
   "outputs": [
    {
     "data": {
      "text/plain": [
       "Prediction(\n",
       "    context=[\"Elon Reeve Musk ( EE-lon; born June 28, 1971) is a businessman and investor. He is the founder, chairman, CEO, and CTO of SpaceX; angel investor, CEO, product architect, and former chairman of Tesla, Inc.; owner, executive chairman, and CTO of X Corp.; founder of the Boring Company and xAI; co-founder of Neuralink and OpenAI; and president of the Musk Foundation. He is one of the wealthiest people in the world; as of April 2024, Forbes estimates his net worth to be $178 billion. \\nA member of the wealthy South African Musk family, Musk was born in Pretoria and briefly attended the University of Pretoria before immigrating to Canada at age 18, acquiring citizenship through his Canadian-born mother. Two years later, he matriculated at Queen's University at Kingston in Canada. Musk later transferred to the University of Pennsylvania and received bachelor's degrees in economics and physics. He moved to California in 1995 to attend Stanford University, but dropped out after two days and, with his brother Kimbal, co-founded online city guide software company Zip2. The startup was acquired by Compaq for $307 million in 1999. That same year, Musk co-founded X.com, a direct bank. X.com merged with Confinity in 2000 to form PayPal. In October 2002, eBay acquired PayPal for $1.5 billion. Using $100 million of the money he made from the sale of PayPal, Musk founded SpaceX, a spaceflight services company, in 2002.\", \"Elon Reeve Musk ( EE-lon; born June 28, 1971) is a businessman and investor. He is the founder, chairman, CEO, and CTO of SpaceX; angel investor, CEO, product architect, and former chairman of Tesla, Inc.; owner, executive chairman, and CTO of X Corp.; founder of the Boring Company and xAI; co-founder of Neuralink and OpenAI; and president of the Musk Foundation. He is one of the wealthiest people in the world; as of April 2024, Forbes estimates his net worth to be $178 billion. \\nA member of the wealthy South African Musk family, Musk was born in Pretoria and briefly attended the University of Pretoria before immigrating to Canada at age 18, acquiring citizenship through his Canadian-born mother. Two years later, he matriculated at Queen's University at Kingston in Canada. Musk later transferred to the University of Pennsylvania and received bachelor's degrees in economics and physics. He moved to California in 1995 to attend Stanford University, but dropped out after two days and, with his brother Kimbal, co-founded online city guide software company Zip2. The startup was acquired by Compaq for $307 million in 1999. That same year, Musk co-founded X.com, a direct bank. X.com merged with Confinity in 2000 to form PayPal. In October 2002, eBay acquired PayPal for $1.5 billion. Using $100 million of the money he made from the sale of PayPal, Musk founded SpaceX, a spaceflight services company, in 2002.\", \"Elon Reeve Musk ( EE-lon; born June 28, 1971) is a businessman and investor. He is the founder, chairman, CEO, and CTO of SpaceX; angel investor, CEO, product architect, and former chairman of Tesla, Inc.; owner, executive chairman, and CTO of X Corp.; founder of the Boring Company and xAI; co-founder of Neuralink and OpenAI; and president of the Musk Foundation. He is one of the wealthiest people in the world; as of April 2024, Forbes estimates his net worth to be $178 billion. \\nA member of the wealthy South African Musk family, Musk was born in Pretoria and briefly attended the University of Pretoria before immigrating to Canada at age 18, acquiring citizenship through his Canadian-born mother. Two years later, he matriculated at Queen's University at Kingston in Canada. Musk later transferred to the University of Pennsylvania and received bachelor's degrees in economics and physics. He moved to California in 1995 to attend Stanford University, but dropped out after two days and, with his brother Kimbal, co-founded online city guide software company Zip2. The startup was acquired by Compaq for $307 million in 1999. That same year, Musk co-founded X.com, a direct bank. X.com merged with Confinity in 2000 to form PayPal. In October 2002, eBay acquired PayPal for $1.5 billion. Using $100 million of the money he made from the sale of PayPal, Musk founded SpaceX, a spaceflight services company, in 2002.\"],\n",
       "    answer='According to the text, Elon Musk co-founded the following companies with other founders:\\n\\n1. Zip2 (with brother Kimbal)\\n2. X.com (with unknown founder(s))\\n3. Confinity (merged with X.com to form PayPal)\\n4. SpaceX (no specific co-founder mentioned)\\n\\nNote that Neuralink and OpenAI are not explicitly stated as being co-founded by Musk, but rather as companies he is involved with.'\n",
       ")"
      ]
     },
     "execution_count": 28,
     "metadata": {},
     "output_type": "execute_result"
    }
   ],
   "source": [
    "dspy.settings.configure(lm=lm_llama3, rm=nomic_rm)\n",
    "\n",
    "# nomic embedding + llama3\n",
    "question_org_elon_cofounded = \"List out the companies that Elon Musk co-founded with other founders.\"\n",
    "vanilla_dspy_rag_nomic_llama3 = vanilla_dspy_rag()\n",
    "vanilla_dspy_rag_q1 = vanilla_dspy_rag_nomic_llama3.forward(question=question_org_elon_cofounded)\n",
    "vanilla_dspy_rag_q1"
   ]
  },
  {
   "cell_type": "code",
   "execution_count": 29,
   "id": "1f935e31-99d9-4213-8838-ecb31f12c8b5",
   "metadata": {},
   "outputs": [
    {
     "data": {
      "text/plain": [
       "Prediction(\n",
       "    context=[\"== Notable members ==\\nMaye Musk (née Haldeman; born 1948), model and dietitian. She has appeared on the cover of several magazines, including a Time magazine health edition, Women's Day, and Vogue; Elon's mother.\\nElon Musk (born 1971), entrepreneur and business magnate. Variously CEO, CTO, and/or Chairman of SpaceX, Tesla, X Corp., and Neuralink. He was Time Magazine's 2021 Person of the Year.\\nKimbal Musk (born 1972), entrepreneur, philanthropist, and restaurateur. He founded Zip2 in 1998 with his brother Elon and later sold it to Compaq for $307 million. He is the co-founder and chairman of Big Green.\\nTosca Musk (born 1974), filmmaker and sister of Elon; she is the co-founder of Passionflix, an OTT entertainment streaming platform and production company.\\nLyndon Rive (born 1977), businessman who co-founded SolarCity and served as its CEO until 2017. He is Elon's cousin through his mother Kaye Rive, Maye Musk's twin.\\n\\n\\n== References ==\", \"== Notable members ==\\nMaye Musk (née Haldeman; born 1948), model and dietitian. She has appeared on the cover of several magazines, including a Time magazine health edition, Women's Day, and Vogue; Elon's mother.\\nElon Musk (born 1971), entrepreneur and business magnate. Variously CEO, CTO, and/or Chairman of SpaceX, Tesla, X Corp., and Neuralink. He was Time Magazine's 2021 Person of the Year.\\nKimbal Musk (born 1972), entrepreneur, philanthropist, and restaurateur. He founded Zip2 in 1998 with his brother Elon and later sold it to Compaq for $307 million. He is the co-founder and chairman of Big Green.\\nTosca Musk (born 1974), filmmaker and sister of Elon; she is the co-founder of Passionflix, an OTT entertainment streaming platform and production company.\\nLyndon Rive (born 1977), businessman who co-founded SolarCity and served as its CEO until 2017. He is Elon's cousin through his mother Kaye Rive, Maye Musk's twin.\\n\\n\\n== References ==\", \"== Notable members ==\\nMaye Musk (née Haldeman; born 1948), model and dietitian. She has appeared on the cover of several magazines, including a Time magazine health edition, Women's Day, and Vogue; Elon's mother.\\nElon Musk (born 1971), entrepreneur and business magnate. Variously CEO, CTO, and/or Chairman of SpaceX, Tesla, X Corp., and Neuralink. He was Time Magazine's 2021 Person of the Year.\\nKimbal Musk (born 1972), entrepreneur, philanthropist, and restaurateur. He founded Zip2 in 1998 with his brother Elon and later sold it to Compaq for $307 million. He is the co-founder and chairman of Big Green.\\nTosca Musk (born 1974), filmmaker and sister of Elon; she is the co-founder of Passionflix, an OTT entertainment streaming platform and production company.\\nLyndon Rive (born 1977), businessman who co-founded SolarCity and served as its CEO until 2017. He is Elon's cousin through his mother Kaye Rive, Maye Musk's twin.\\n\\n\\n== References ==\"],\n",
       "    answer='Yes'\n",
       ")"
      ]
     },
     "execution_count": 29,
     "metadata": {},
     "output_type": "execute_result"
    }
   ],
   "source": [
    "# nomic embedding + llama3\n",
    "question_org_elon_cofounded_1a = \"Did Elon Musk co-found SpaceX with other founders?\"\n",
    "vanilla_dspy_rag_q1a = vanilla_dspy_rag_nomic_llama3.forward(question=question_org_elon_cofounded_1a)\n",
    "vanilla_dspy_rag_q1a"
   ]
  },
  {
   "cell_type": "code",
   "execution_count": 30,
   "id": "f2885282-2e31-4912-8fff-723b60e1f935",
   "metadata": {},
   "outputs": [
    {
     "data": {
      "text/plain": [
       "Prediction(\n",
       "    context=[\"== Notable members ==\\nMaye Musk (née Haldeman; born 1948), model and dietitian. She has appeared on the cover of several magazines, including a Time magazine health edition, Women's Day, and Vogue; Elon's mother.\\nElon Musk (born 1971), entrepreneur and business magnate. Variously CEO, CTO, and/or Chairman of SpaceX, Tesla, X Corp., and Neuralink. He was Time Magazine's 2021 Person of the Year.\\nKimbal Musk (born 1972), entrepreneur, philanthropist, and restaurateur. He founded Zip2 in 1998 with his brother Elon and later sold it to Compaq for $307 million. He is the co-founder and chairman of Big Green.\\nTosca Musk (born 1974), filmmaker and sister of Elon; she is the co-founder of Passionflix, an OTT entertainment streaming platform and production company.\\nLyndon Rive (born 1977), businessman who co-founded SolarCity and served as its CEO until 2017. He is Elon's cousin through his mother Kaye Rive, Maye Musk's twin.\\n\\n\\n== References ==\", \"== Notable members ==\\nMaye Musk (née Haldeman; born 1948), model and dietitian. She has appeared on the cover of several magazines, including a Time magazine health edition, Women's Day, and Vogue; Elon's mother.\\nElon Musk (born 1971), entrepreneur and business magnate. Variously CEO, CTO, and/or Chairman of SpaceX, Tesla, X Corp., and Neuralink. He was Time Magazine's 2021 Person of the Year.\\nKimbal Musk (born 1972), entrepreneur, philanthropist, and restaurateur. He founded Zip2 in 1998 with his brother Elon and later sold it to Compaq for $307 million. He is the co-founder and chairman of Big Green.\\nTosca Musk (born 1974), filmmaker and sister of Elon; she is the co-founder of Passionflix, an OTT entertainment streaming platform and production company.\\nLyndon Rive (born 1977), businessman who co-founded SolarCity and served as its CEO until 2017. He is Elon's cousin through his mother Kaye Rive, Maye Musk's twin.\\n\\n\\n== References ==\", \"== Notable members ==\\nMaye Musk (née Haldeman; born 1948), model and dietitian. She has appeared on the cover of several magazines, including a Time magazine health edition, Women's Day, and Vogue; Elon's mother.\\nElon Musk (born 1971), entrepreneur and business magnate. Variously CEO, CTO, and/or Chairman of SpaceX, Tesla, X Corp., and Neuralink. He was Time Magazine's 2021 Person of the Year.\\nKimbal Musk (born 1972), entrepreneur, philanthropist, and restaurateur. He founded Zip2 in 1998 with his brother Elon and later sold it to Compaq for $307 million. He is the co-founder and chairman of Big Green.\\nTosca Musk (born 1974), filmmaker and sister of Elon; she is the co-founder of Passionflix, an OTT entertainment streaming platform and production company.\\nLyndon Rive (born 1977), businessman who co-founded SolarCity and served as its CEO until 2017. He is Elon's cousin through his mother Kaye Rive, Maye Musk's twin.\\n\\n\\n== References ==\"],\n",
       "    answer='PayPal'\n",
       ")"
      ]
     },
     "execution_count": 30,
     "metadata": {},
     "output_type": "execute_result"
    }
   ],
   "source": [
    "# nomic embedding + llama3\n",
    "question_org_elon_cofounded_1b = \"What are the other founders Elon Musk co-found SpaceX with?\"\n",
    "vanilla_dspy_rag_q1b = vanilla_dspy_rag_nomic_llama3.forward(question=question_org_elon_cofounded_1b)\n",
    "vanilla_dspy_rag_q1b"
   ]
  },
  {
   "cell_type": "code",
   "execution_count": 31,
   "id": "82ddf44b-dd62-483f-b9c3-b8290648bfe3",
   "metadata": {},
   "outputs": [
    {
     "data": {
      "text/plain": [
       "Prediction(\n",
       "    context=[\"== Notable members ==\\nMaye Musk (née Haldeman; born 1948), model and dietitian. She has appeared on the cover of several magazines, including a Time magazine health edition, Women's Day, and Vogue; Elon's mother.\\nElon Musk (born 1971), entrepreneur and business magnate. Variously CEO, CTO, and/or Chairman of SpaceX, Tesla, X Corp., and Neuralink. He was Time Magazine's 2021 Person of the Year.\\nKimbal Musk (born 1972), entrepreneur, philanthropist, and restaurateur. He founded Zip2 in 1998 with his brother Elon and later sold it to Compaq for $307 million. He is the co-founder and chairman of Big Green.\\nTosca Musk (born 1974), filmmaker and sister of Elon; she is the co-founder of Passionflix, an OTT entertainment streaming platform and production company.\\nLyndon Rive (born 1977), businessman who co-founded SolarCity and served as its CEO until 2017. He is Elon's cousin through his mother Kaye Rive, Maye Musk's twin.\\n\\n\\n== References ==\", \"== Notable members ==\\nMaye Musk (née Haldeman; born 1948), model and dietitian. She has appeared on the cover of several magazines, including a Time magazine health edition, Women's Day, and Vogue; Elon's mother.\\nElon Musk (born 1971), entrepreneur and business magnate. Variously CEO, CTO, and/or Chairman of SpaceX, Tesla, X Corp., and Neuralink. He was Time Magazine's 2021 Person of the Year.\\nKimbal Musk (born 1972), entrepreneur, philanthropist, and restaurateur. He founded Zip2 in 1998 with his brother Elon and later sold it to Compaq for $307 million. He is the co-founder and chairman of Big Green.\\nTosca Musk (born 1974), filmmaker and sister of Elon; she is the co-founder of Passionflix, an OTT entertainment streaming platform and production company.\\nLyndon Rive (born 1977), businessman who co-founded SolarCity and served as its CEO until 2017. He is Elon's cousin through his mother Kaye Rive, Maye Musk's twin.\\n\\n\\n== References ==\", \"== Notable members ==\\nMaye Musk (née Haldeman; born 1948), model and dietitian. She has appeared on the cover of several magazines, including a Time magazine health edition, Women's Day, and Vogue; Elon's mother.\\nElon Musk (born 1971), entrepreneur and business magnate. Variously CEO, CTO, and/or Chairman of SpaceX, Tesla, X Corp., and Neuralink. He was Time Magazine's 2021 Person of the Year.\\nKimbal Musk (born 1972), entrepreneur, philanthropist, and restaurateur. He founded Zip2 in 1998 with his brother Elon and later sold it to Compaq for $307 million. He is the co-founder and chairman of Big Green.\\nTosca Musk (born 1974), filmmaker and sister of Elon; she is the co-founder of Passionflix, an OTT entertainment streaming platform and production company.\\nLyndon Rive (born 1977), businessman who co-founded SolarCity and served as its CEO until 2017. He is Elon's cousin through his mother Kaye Rive, Maye Musk's twin.\\n\\n\\n== References ==\"],\n",
       "    answer='Yes'\n",
       ")"
      ]
     },
     "execution_count": 31,
     "metadata": {},
     "output_type": "execute_result"
    }
   ],
   "source": [
    "# nomic embedding + llama3\n",
    "question_org_elon_cofounded_1c = \"Did Elon co-found The Boring Company with other people?\"\n",
    "vanilla_dspy_rag_q1c = vanilla_dspy_rag_nomic_llama3.forward(question=question_org_elon_cofounded_1c)\n",
    "vanilla_dspy_rag_q1c"
   ]
  },
  {
   "cell_type": "code",
   "execution_count": 32,
   "id": "f43feaa5-d2e8-44a5-8031-f92e1e5c96cf",
   "metadata": {},
   "outputs": [
    {
     "data": {
      "text/plain": [
       "Prediction(\n",
       "    context=[\"== Notable members ==\\nMaye Musk (née Haldeman; born 1948), model and dietitian. She has appeared on the cover of several magazines, including a Time magazine health edition, Women's Day, and Vogue; Elon's mother.\\nElon Musk (born 1971), entrepreneur and business magnate. Variously CEO, CTO, and/or Chairman of SpaceX, Tesla, X Corp., and Neuralink. He was Time Magazine's 2021 Person of the Year.\\nKimbal Musk (born 1972), entrepreneur, philanthropist, and restaurateur. He founded Zip2 in 1998 with his brother Elon and later sold it to Compaq for $307 million. He is the co-founder and chairman of Big Green.\\nTosca Musk (born 1974), filmmaker and sister of Elon; she is the co-founder of Passionflix, an OTT entertainment streaming platform and production company.\\nLyndon Rive (born 1977), businessman who co-founded SolarCity and served as its CEO until 2017. He is Elon's cousin through his mother Kaye Rive, Maye Musk's twin.\\n\\n\\n== References ==\", \"== Notable members ==\\nMaye Musk (née Haldeman; born 1948), model and dietitian. She has appeared on the cover of several magazines, including a Time magazine health edition, Women's Day, and Vogue; Elon's mother.\\nElon Musk (born 1971), entrepreneur and business magnate. Variously CEO, CTO, and/or Chairman of SpaceX, Tesla, X Corp., and Neuralink. He was Time Magazine's 2021 Person of the Year.\\nKimbal Musk (born 1972), entrepreneur, philanthropist, and restaurateur. He founded Zip2 in 1998 with his brother Elon and later sold it to Compaq for $307 million. He is the co-founder and chairman of Big Green.\\nTosca Musk (born 1974), filmmaker and sister of Elon; she is the co-founder of Passionflix, an OTT entertainment streaming platform and production company.\\nLyndon Rive (born 1977), businessman who co-founded SolarCity and served as its CEO until 2017. He is Elon's cousin through his mother Kaye Rive, Maye Musk's twin.\\n\\n\\n== References ==\", \"== Notable members ==\\nMaye Musk (née Haldeman; born 1948), model and dietitian. She has appeared on the cover of several magazines, including a Time magazine health edition, Women's Day, and Vogue; Elon's mother.\\nElon Musk (born 1971), entrepreneur and business magnate. Variously CEO, CTO, and/or Chairman of SpaceX, Tesla, X Corp., and Neuralink. He was Time Magazine's 2021 Person of the Year.\\nKimbal Musk (born 1972), entrepreneur, philanthropist, and restaurateur. He founded Zip2 in 1998 with his brother Elon and later sold it to Compaq for $307 million. He is the co-founder and chairman of Big Green.\\nTosca Musk (born 1974), filmmaker and sister of Elon; she is the co-founder of Passionflix, an OTT entertainment streaming platform and production company.\\nLyndon Rive (born 1977), businessman who co-founded SolarCity and served as its CEO until 2017. He is Elon's cousin through his mother Kaye Rive, Maye Musk's twin.\\n\\n\\n== References ==\"],\n",
       "    answer='No'\n",
       ")"
      ]
     },
     "execution_count": 32,
     "metadata": {},
     "output_type": "execute_result"
    }
   ],
   "source": [
    "# nomic embedding + llama3\n",
    "question_org_elon_cofounded_1d = \"Is The Boring Company one of the companies Elon co-founded with other founders?\"\n",
    "vanilla_dspy_rag_q1d = vanilla_dspy_rag_nomic_llama3.forward(question=question_org_elon_cofounded_1d)\n",
    "vanilla_dspy_rag_q1d"
   ]
  },
  {
   "cell_type": "code",
   "execution_count": 33,
   "id": "fecb033e-a8fd-445d-b8eb-24f01ca2fd7a",
   "metadata": {},
   "outputs": [
    {
     "data": {
      "text/plain": [
       "Prediction(\n",
       "    context=[\"Elon Reeve Musk ( EE-lon; born June 28, 1971) is a businessman and investor. He is the founder, chairman, CEO, and CTO of SpaceX; angel investor, CEO, product architect, and former chairman of Tesla, Inc.; owner, executive chairman, and CTO of X Corp.; founder of the Boring Company and xAI; co-founder of Neuralink and OpenAI; and president of the Musk Foundation. He is one of the wealthiest people in the world; as of April 2024, Forbes estimates his net worth to be $178 billion. \\nA member of the wealthy South African Musk family, Musk was born in Pretoria and briefly attended the University of Pretoria before immigrating to Canada at age 18, acquiring citizenship through his Canadian-born mother. Two years later, he matriculated at Queen's University at Kingston in Canada. Musk later transferred to the University of Pennsylvania and received bachelor's degrees in economics and physics. He moved to California in 1995 to attend Stanford University, but dropped out after two days and, with his brother Kimbal, co-founded online city guide software company Zip2. The startup was acquired by Compaq for $307 million in 1999. That same year, Musk co-founded X.com, a direct bank. X.com merged with Confinity in 2000 to form PayPal. In October 2002, eBay acquired PayPal for $1.5 billion. Using $100 million of the money he made from the sale of PayPal, Musk founded SpaceX, a spaceflight services company, in 2002.\", \"Elon Reeve Musk ( EE-lon; born June 28, 1971) is a businessman and investor. He is the founder, chairman, CEO, and CTO of SpaceX; angel investor, CEO, product architect, and former chairman of Tesla, Inc.; owner, executive chairman, and CTO of X Corp.; founder of the Boring Company and xAI; co-founder of Neuralink and OpenAI; and president of the Musk Foundation. He is one of the wealthiest people in the world; as of April 2024, Forbes estimates his net worth to be $178 billion. \\nA member of the wealthy South African Musk family, Musk was born in Pretoria and briefly attended the University of Pretoria before immigrating to Canada at age 18, acquiring citizenship through his Canadian-born mother. Two years later, he matriculated at Queen's University at Kingston in Canada. Musk later transferred to the University of Pennsylvania and received bachelor's degrees in economics and physics. He moved to California in 1995 to attend Stanford University, but dropped out after two days and, with his brother Kimbal, co-founded online city guide software company Zip2. The startup was acquired by Compaq for $307 million in 1999. That same year, Musk co-founded X.com, a direct bank. X.com merged with Confinity in 2000 to form PayPal. In October 2002, eBay acquired PayPal for $1.5 billion. Using $100 million of the money he made from the sale of PayPal, Musk founded SpaceX, a spaceflight services company, in 2002.\", \"Elon Reeve Musk ( EE-lon; born June 28, 1971) is a businessman and investor. He is the founder, chairman, CEO, and CTO of SpaceX; angel investor, CEO, product architect, and former chairman of Tesla, Inc.; owner, executive chairman, and CTO of X Corp.; founder of the Boring Company and xAI; co-founder of Neuralink and OpenAI; and president of the Musk Foundation. He is one of the wealthiest people in the world; as of April 2024, Forbes estimates his net worth to be $178 billion. \\nA member of the wealthy South African Musk family, Musk was born in Pretoria and briefly attended the University of Pretoria before immigrating to Canada at age 18, acquiring citizenship through his Canadian-born mother. Two years later, he matriculated at Queen's University at Kingston in Canada. Musk later transferred to the University of Pennsylvania and received bachelor's degrees in economics and physics. He moved to California in 1995 to attend Stanford University, but dropped out after two days and, with his brother Kimbal, co-founded online city guide software company Zip2. The startup was acquired by Compaq for $307 million in 1999. That same year, Musk co-founded X.com, a direct bank. X.com merged with Confinity in 2000 to form PayPal. In October 2002, eBay acquired PayPal for $1.5 billion. Using $100 million of the money he made from the sale of PayPal, Musk founded SpaceX, a spaceflight services company, in 2002.\"],\n",
       "    answer='According to the text, Elon Musk co-founded the following companies with other founders:\\n\\n1. Zip2 (with brother Kimbal)\\n2. X.com (with unknown founder(s))\\n3. Confinity (merged with X.com to form PayPal)\\n4. SpaceX (no specific co-founder mentioned)\\n\\nNote that Neuralink and OpenAI are not explicitly stated as being co-founded by Musk, but rather as companies he is involved with.'\n",
       ")"
      ]
     },
     "execution_count": 33,
     "metadata": {},
     "output_type": "execute_result"
    }
   ],
   "source": [
    "# nomic embedding + llama3\n",
    "question_org_elon_cofounded_1e = \"List out the companies that Elon Musk co-founded with other founders.\"\n",
    "vanilla_dspy_rag_q1e = vanilla_dspy_rag_nomic_llama3.forward(question=question_org_elon_cofounded_1e)\n",
    "vanilla_dspy_rag_q1e"
   ]
  }
 ],
 "metadata": {
  "kernelspec": {
   "display_name": "Python 3 (ipykernel)",
   "language": "python",
   "name": "python3"
  },
  "language_info": {
   "codemirror_mode": {
    "name": "ipython",
    "version": 3
   },
   "file_extension": ".py",
   "mimetype": "text/x-python",
   "name": "python",
   "nbconvert_exporter": "python",
   "pygments_lexer": "ipython3",
   "version": "3.10.12"
  }
 },
 "nbformat": 4,
 "nbformat_minor": 5
}
